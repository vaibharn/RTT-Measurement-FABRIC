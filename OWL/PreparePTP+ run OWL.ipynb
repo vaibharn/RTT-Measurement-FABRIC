{
 "cells": [
  {
   "cell_type": "markdown",
   "id": "424f5fca-ff37-4361-9cdf-dba1f71aa0a7",
   "metadata": {},
   "source": [
    "# Create a slice with PTP for precise time measurements\n",
    "\n",
    "For running MF timestamp or OWL (one-way latency measurement) tools, slice nodes must meet prerequisites: \n",
    "\n",
    "+ Git and Dockerhub must be reachable \n",
    "+ Docker has to be running\n",
    "+ PTP (Precision Time Protocol) clock must be running/\n",
    "\n",
    "This notebook creates a 3-node slice and sets up all the the above\n",
    "\n",
    "(Tested on 2023/08/18)"
   ]
  },
  {
   "cell_type": "markdown",
   "id": "7c1c5f52-ae0c-47fe-b44b-73944f316237",
   "metadata": {},
   "source": [
    "## Import the FABlib Library\n"
   ]
  },
  {
   "cell_type": "code",
   "execution_count": 1,
   "id": "6412c221-7d83-4016-92c4-fd12a4c24a98",
   "metadata": {},
   "outputs": [
    {
     "name": "stdout",
     "output_type": "stream",
     "text": [
      "Exception: b'{\\n    \"errors\": [\\n        {\\n            \"details\": \"\\\\\"invalid_token\\\\\"\\\\nerror_description=\\\\\"token not found\\\\\"\\\\n\",\\n            \"message\": \"Internal Server Error\"\\n        }\\n    ],\\n    \"size\": 1,\\n    \"status\": 500,\\n    \"type\": \"error\"\\n}'\n"
     ]
    }
   ],
   "source": [
    "from fabrictestbed_extensions.fablib.fablib import FablibManager as fablib_manager\n",
    "\n",
    "try:\n",
    "    fablib = fablib_manager()\n",
    "                     \n",
    "    fablib.show_config()\n",
    "except Exception as e:\n",
    "    print(f\"Exception: {e}\")"
   ]
  },
  {
   "cell_type": "markdown",
   "id": "5c7f242d-4948-4333-8ecb-57f0a0d7e70c",
   "metadata": {
    "tags": []
   },
   "source": [
    "## Create an Experiment Slice\n",
    "\n",
    "The following creates three nodes, on different sites, with basic NICs connected to FABRIC's FABnetv4 internet. Sites can be changed, but make sure that the site is PTP-compatible. \n",
    "\n",
    "Current list of PTP-compatible sites:\n",
    "\n",
    "- STAR\n",
    "- MAX\n",
    "- MICH\n",
    "- MASS \n",
    "- UTAH\n",
    "- NCSA\n",
    "- UCSD\n",
    "- FIU\n",
    "- CLEM\n",
    "- CERN"
   ]
  },
  {
   "cell_type": "code",
   "execution_count": 6,
   "id": "23125b8b-5b60-4d08-86ef-fafe2a43ae0c",
   "metadata": {},
   "outputs": [
    {
     "name": "stdout",
     "output_type": "stream",
     "text": [
      "Sites: STAR, CERN, CLEM\n"
     ]
    }
   ],
   "source": [
    "slice_name = 'PTP_slice'\n",
    "\n",
    "#[site1,site2,site3] = fablib.get_random_sites(count=2, \n",
    "#        avoid=[\"DALL\",\"GPN\",\"LBNL\",\"RENC\",\"SALT\",\"TACC\",\"UKY\",\"WASH\",\"NCSA\",\"LOSA\",\"GATECH\",\"INDI\",\"MAX\", \"MASS\",\"NEWY\",\"SRI\",\"UCSD\"])\n",
    "\n",
    "# for faster execution, specify the sites (from the list above)\n",
    "[site1, site2, site3] = [\"STAR\", \"CERN\", \"CLEM\"]\n",
    "\n",
    "print(f\"Sites: {site1}, {site2}, {site3}\")\n",
    "\n",
    "node1_name = 'Node1'\n",
    "node2_name = 'Node2'\n",
    "node3_name = 'Node3'\n"
   ]
  },
  {
   "cell_type": "code",
   "execution_count": 7,
   "id": "91d3da67-f71a-413c-8dbd-5a25913126b7",
   "metadata": {},
   "outputs": [
    {
     "name": "stdout",
     "output_type": "stream",
     "text": [
      "Fail: name 'fablib' is not defined\n",
      "<class 'slice'>\n"
     ]
    }
   ],
   "source": [
    "slice_name = \"PTP_slice\"\n",
    "\n",
    "try:\n",
    "    slice = fablib.get_slice(name=slice_name)\n",
    "except Exception as e:\n",
    "    print(f\"Fail: {e}\")\n",
    "print (slice)"
   ]
  },
  {
   "cell_type": "code",
   "execution_count": 3,
   "id": "4d4f601d-1605-46b9-8010-aa8c703abe97",
   "metadata": {},
   "outputs": [
    {
     "name": "stdout",
     "output_type": "stream",
     "text": [
      "\n",
      "Retry: 9, Time: 280 sec\n"
     ]
    },
    {
     "data": {
      "text/html": [
       "<style type=\"text/css\">\n",
       "#T_91561 tr:nth-child(even) {\n",
       "  background: #dbf3ff;\n",
       "  color: #231f20;\n",
       "}\n",
       "#T_91561 tr:nth-child(odd) {\n",
       "  background: #ffffff;\n",
       "  color: #231f20;\n",
       "}\n",
       "#T_91561 caption {\n",
       "  text-align: center;\n",
       "  font-size: 150%;\n",
       "}\n",
       "#T_91561_row0_col0, #T_91561_row0_col1, #T_91561_row1_col0, #T_91561_row1_col1, #T_91561_row2_col0, #T_91561_row2_col1, #T_91561_row3_col0, #T_91561_row3_col1, #T_91561_row4_col0, #T_91561_row4_col1, #T_91561_row5_col0 {\n",
       "  text-align: left;\n",
       "  border: 1px #231f20 solid !important;\n",
       "  overwrite: False;\n",
       "  background-color: ;\n",
       "}\n",
       "#T_91561_row5_col1 {\n",
       "  text-align: left;\n",
       "  border: 1px #231f20 solid !important;\n",
       "  overwrite: False;\n",
       "  background-color: #c3ffc4;\n",
       "}\n",
       "</style>\n",
       "<table id=\"T_91561\">\n",
       "  <caption>Slice</caption>\n",
       "  <thead>\n",
       "  </thead>\n",
       "  <tbody>\n",
       "    <tr>\n",
       "      <td id=\"T_91561_row0_col0\" class=\"data row0 col0\" >ID</td>\n",
       "      <td id=\"T_91561_row0_col1\" class=\"data row0 col1\" >064372be-d3f9-4a66-80a3-ee3672725f8e</td>\n",
       "    </tr>\n",
       "    <tr>\n",
       "      <td id=\"T_91561_row1_col0\" class=\"data row1 col0\" >Name</td>\n",
       "      <td id=\"T_91561_row1_col1\" class=\"data row1 col1\" >PTP_slice</td>\n",
       "    </tr>\n",
       "    <tr>\n",
       "      <td id=\"T_91561_row2_col0\" class=\"data row2 col0\" >Lease Expiration (UTC)</td>\n",
       "      <td id=\"T_91561_row2_col1\" class=\"data row2 col1\" >2023-10-22 07:08:18 +0000</td>\n",
       "    </tr>\n",
       "    <tr>\n",
       "      <td id=\"T_91561_row3_col0\" class=\"data row3 col0\" >Lease Start (UTC)</td>\n",
       "      <td id=\"T_91561_row3_col1\" class=\"data row3 col1\" >2023-10-21 07:08:19 +0000</td>\n",
       "    </tr>\n",
       "    <tr>\n",
       "      <td id=\"T_91561_row4_col0\" class=\"data row4 col0\" >Project ID</td>\n",
       "      <td id=\"T_91561_row4_col1\" class=\"data row4 col1\" >6ce270de-788d-4e07-8bae-3206860a6387</td>\n",
       "    </tr>\n",
       "    <tr>\n",
       "      <td id=\"T_91561_row5_col0\" class=\"data row5 col0\" >State</td>\n",
       "      <td id=\"T_91561_row5_col1\" class=\"data row5 col1\" >StableOK</td>\n",
       "    </tr>\n",
       "  </tbody>\n",
       "</table>\n"
      ],
      "text/plain": [
       "<pandas.io.formats.style.Styler at 0x7f486a9092a0>"
      ]
     },
     "metadata": {},
     "output_type": "display_data"
    },
    {
     "data": {
      "text/html": [
       "<style type=\"text/css\">\n",
       "#T_af93a caption {\n",
       "  text-align: center;\n",
       "  font-size: 150%;\n",
       "  caption-side: top;\n",
       "}\n",
       "#T_af93a th {\n",
       "  text-align: left;\n",
       "}\n",
       "#T_af93a tr:nth-child(even) {\n",
       "  background: #ffffff;\n",
       "  color: #231f20;\n",
       "}\n",
       "#T_af93a tr:nth-child(odd) {\n",
       "  background: #dbf3ff;\n",
       "  color: #231f20;\n",
       "}\n",
       "#T_af93a .level0 {\n",
       "  border: 1px black solid !important;\n",
       "  background: #ffffff;\n",
       "  color: #231f20;\n",
       "}\n",
       "#T_af93a_row0_col0, #T_af93a_row0_col1, #T_af93a_row0_col2, #T_af93a_row0_col3, #T_af93a_row0_col4, #T_af93a_row0_col5, #T_af93a_row0_col6, #T_af93a_row0_col7, #T_af93a_row0_col8, #T_af93a_row0_col9, #T_af93a_row0_col10, #T_af93a_row0_col13, #T_af93a_row0_col14, #T_af93a_row0_col15, #T_af93a_row1_col0, #T_af93a_row1_col1, #T_af93a_row1_col2, #T_af93a_row1_col3, #T_af93a_row1_col4, #T_af93a_row1_col5, #T_af93a_row1_col6, #T_af93a_row1_col7, #T_af93a_row1_col8, #T_af93a_row1_col9, #T_af93a_row1_col10, #T_af93a_row1_col13, #T_af93a_row1_col14, #T_af93a_row1_col15, #T_af93a_row2_col0, #T_af93a_row2_col1, #T_af93a_row2_col2, #T_af93a_row2_col3, #T_af93a_row2_col4, #T_af93a_row2_col5, #T_af93a_row2_col6, #T_af93a_row2_col7, #T_af93a_row2_col8, #T_af93a_row2_col9, #T_af93a_row2_col10, #T_af93a_row2_col13, #T_af93a_row2_col14, #T_af93a_row2_col15 {\n",
       "  text-align: left;\n",
       "  border: 1px #231f20 solid !important;\n",
       "  overwrite: False;\n",
       "}\n",
       "#T_af93a_row0_col11, #T_af93a_row1_col11, #T_af93a_row2_col11 {\n",
       "  text-align: left;\n",
       "  border: 1px #231f20 solid !important;\n",
       "  overwrite: False;\n",
       "  background-color: #c3ffc4;\n",
       "}\n",
       "#T_af93a_row0_col12, #T_af93a_row1_col12, #T_af93a_row2_col12 {\n",
       "  text-align: left;\n",
       "  border: 1px #231f20 solid !important;\n",
       "  overwrite: False;\n",
       "  background-color: ;\n",
       "}\n",
       "</style>\n",
       "<table id=\"T_af93a\">\n",
       "  <caption>Nodes</caption>\n",
       "  <thead>\n",
       "    <tr>\n",
       "      <th id=\"T_af93a_level0_col0\" class=\"col_heading level0 col0\" >ID</th>\n",
       "      <th id=\"T_af93a_level0_col1\" class=\"col_heading level0 col1\" >Name</th>\n",
       "      <th id=\"T_af93a_level0_col2\" class=\"col_heading level0 col2\" >Cores</th>\n",
       "      <th id=\"T_af93a_level0_col3\" class=\"col_heading level0 col3\" >RAM</th>\n",
       "      <th id=\"T_af93a_level0_col4\" class=\"col_heading level0 col4\" >Disk</th>\n",
       "      <th id=\"T_af93a_level0_col5\" class=\"col_heading level0 col5\" >Image</th>\n",
       "      <th id=\"T_af93a_level0_col6\" class=\"col_heading level0 col6\" >Image Type</th>\n",
       "      <th id=\"T_af93a_level0_col7\" class=\"col_heading level0 col7\" >Host</th>\n",
       "      <th id=\"T_af93a_level0_col8\" class=\"col_heading level0 col8\" >Site</th>\n",
       "      <th id=\"T_af93a_level0_col9\" class=\"col_heading level0 col9\" >Username</th>\n",
       "      <th id=\"T_af93a_level0_col10\" class=\"col_heading level0 col10\" >Management IP</th>\n",
       "      <th id=\"T_af93a_level0_col11\" class=\"col_heading level0 col11\" >State</th>\n",
       "      <th id=\"T_af93a_level0_col12\" class=\"col_heading level0 col12\" >Error</th>\n",
       "      <th id=\"T_af93a_level0_col13\" class=\"col_heading level0 col13\" >SSH Command</th>\n",
       "      <th id=\"T_af93a_level0_col14\" class=\"col_heading level0 col14\" >Public SSH Key File</th>\n",
       "      <th id=\"T_af93a_level0_col15\" class=\"col_heading level0 col15\" >Private SSH Key File</th>\n",
       "    </tr>\n",
       "  </thead>\n",
       "  <tbody>\n",
       "    <tr>\n",
       "      <td id=\"T_af93a_row0_col0\" class=\"data row0 col0\" >8f52c513-d45a-44dc-ba63-24a34b6e99a5</td>\n",
       "      <td id=\"T_af93a_row0_col1\" class=\"data row0 col1\" >Node1</td>\n",
       "      <td id=\"T_af93a_row0_col2\" class=\"data row0 col2\" >2</td>\n",
       "      <td id=\"T_af93a_row0_col3\" class=\"data row0 col3\" >8</td>\n",
       "      <td id=\"T_af93a_row0_col4\" class=\"data row0 col4\" >10</td>\n",
       "      <td id=\"T_af93a_row0_col5\" class=\"data row0 col5\" >docker_rocky_8</td>\n",
       "      <td id=\"T_af93a_row0_col6\" class=\"data row0 col6\" >qcow2</td>\n",
       "      <td id=\"T_af93a_row0_col7\" class=\"data row0 col7\" >star-w1.fabric-testbed.net</td>\n",
       "      <td id=\"T_af93a_row0_col8\" class=\"data row0 col8\" >STAR</td>\n",
       "      <td id=\"T_af93a_row0_col9\" class=\"data row0 col9\" >rocky</td>\n",
       "      <td id=\"T_af93a_row0_col10\" class=\"data row0 col10\" >2001:400:a100:3030:f816:3eff:fead:f377</td>\n",
       "      <td id=\"T_af93a_row0_col11\" class=\"data row0 col11\" >Active</td>\n",
       "      <td id=\"T_af93a_row0_col12\" class=\"data row0 col12\" ></td>\n",
       "      <td id=\"T_af93a_row0_col13\" class=\"data row0 col13\" >ssh -i /home/fabric/work/fabric_config/slice_key -F /home/fabric/work/fabric_config/ssh_config rocky@2001:400:a100:3030:f816:3eff:fead:f377</td>\n",
       "      <td id=\"T_af93a_row0_col14\" class=\"data row0 col14\" >/home/fabric/work/fabric_config/slice_key.pub</td>\n",
       "      <td id=\"T_af93a_row0_col15\" class=\"data row0 col15\" >/home/fabric/work/fabric_config/slice_key</td>\n",
       "    </tr>\n",
       "    <tr>\n",
       "      <td id=\"T_af93a_row1_col0\" class=\"data row1 col0\" >c3296372-4c80-4b86-b317-1270174886fa</td>\n",
       "      <td id=\"T_af93a_row1_col1\" class=\"data row1 col1\" >Node2</td>\n",
       "      <td id=\"T_af93a_row1_col2\" class=\"data row1 col2\" >2</td>\n",
       "      <td id=\"T_af93a_row1_col3\" class=\"data row1 col3\" >8</td>\n",
       "      <td id=\"T_af93a_row1_col4\" class=\"data row1 col4\" >10</td>\n",
       "      <td id=\"T_af93a_row1_col5\" class=\"data row1 col5\" >docker_rocky_8</td>\n",
       "      <td id=\"T_af93a_row1_col6\" class=\"data row1 col6\" >qcow2</td>\n",
       "      <td id=\"T_af93a_row1_col7\" class=\"data row1 col7\" >cern-w5.fabric-testbed.net</td>\n",
       "      <td id=\"T_af93a_row1_col8\" class=\"data row1 col8\" >CERN</td>\n",
       "      <td id=\"T_af93a_row1_col9\" class=\"data row1 col9\" >rocky</td>\n",
       "      <td id=\"T_af93a_row1_col10\" class=\"data row1 col10\" >2001:400:a100:3090:f816:3eff:fe62:c516</td>\n",
       "      <td id=\"T_af93a_row1_col11\" class=\"data row1 col11\" >Active</td>\n",
       "      <td id=\"T_af93a_row1_col12\" class=\"data row1 col12\" ></td>\n",
       "      <td id=\"T_af93a_row1_col13\" class=\"data row1 col13\" >ssh -i /home/fabric/work/fabric_config/slice_key -F /home/fabric/work/fabric_config/ssh_config rocky@2001:400:a100:3090:f816:3eff:fe62:c516</td>\n",
       "      <td id=\"T_af93a_row1_col14\" class=\"data row1 col14\" >/home/fabric/work/fabric_config/slice_key.pub</td>\n",
       "      <td id=\"T_af93a_row1_col15\" class=\"data row1 col15\" >/home/fabric/work/fabric_config/slice_key</td>\n",
       "    </tr>\n",
       "    <tr>\n",
       "      <td id=\"T_af93a_row2_col0\" class=\"data row2 col0\" >36498262-1a92-480b-b7ee-ffe1740bab86</td>\n",
       "      <td id=\"T_af93a_row2_col1\" class=\"data row2 col1\" >Node3</td>\n",
       "      <td id=\"T_af93a_row2_col2\" class=\"data row2 col2\" >2</td>\n",
       "      <td id=\"T_af93a_row2_col3\" class=\"data row2 col3\" >8</td>\n",
       "      <td id=\"T_af93a_row2_col4\" class=\"data row2 col4\" >10</td>\n",
       "      <td id=\"T_af93a_row2_col5\" class=\"data row2 col5\" >docker_rocky_8</td>\n",
       "      <td id=\"T_af93a_row2_col6\" class=\"data row2 col6\" >qcow2</td>\n",
       "      <td id=\"T_af93a_row2_col7\" class=\"data row2 col7\" >clem-w1.fabric-testbed.net</td>\n",
       "      <td id=\"T_af93a_row2_col8\" class=\"data row2 col8\" >CLEM</td>\n",
       "      <td id=\"T_af93a_row2_col9\" class=\"data row2 col9\" >rocky</td>\n",
       "      <td id=\"T_af93a_row2_col10\" class=\"data row2 col10\" >2620:103:a006:12:f816:3eff:fe4b:a047</td>\n",
       "      <td id=\"T_af93a_row2_col11\" class=\"data row2 col11\" >Active</td>\n",
       "      <td id=\"T_af93a_row2_col12\" class=\"data row2 col12\" ></td>\n",
       "      <td id=\"T_af93a_row2_col13\" class=\"data row2 col13\" >ssh -i /home/fabric/work/fabric_config/slice_key -F /home/fabric/work/fabric_config/ssh_config rocky@2620:103:a006:12:f816:3eff:fe4b:a047</td>\n",
       "      <td id=\"T_af93a_row2_col14\" class=\"data row2 col14\" >/home/fabric/work/fabric_config/slice_key.pub</td>\n",
       "      <td id=\"T_af93a_row2_col15\" class=\"data row2 col15\" >/home/fabric/work/fabric_config/slice_key</td>\n",
       "    </tr>\n",
       "  </tbody>\n",
       "</table>\n"
      ],
      "text/plain": [
       "<pandas.io.formats.style.Styler at 0x7f486a909cf0>"
      ]
     },
     "metadata": {},
     "output_type": "display_data"
    },
    {
     "data": {
      "text/html": [
       "<style type=\"text/css\">\n",
       "#T_86c05 caption {\n",
       "  text-align: center;\n",
       "  font-size: 150%;\n",
       "  caption-side: top;\n",
       "}\n",
       "#T_86c05 th {\n",
       "  text-align: left;\n",
       "}\n",
       "#T_86c05 tr:nth-child(even) {\n",
       "  background: #ffffff;\n",
       "  color: #231f20;\n",
       "}\n",
       "#T_86c05 tr:nth-child(odd) {\n",
       "  background: #dbf3ff;\n",
       "  color: #231f20;\n",
       "}\n",
       "#T_86c05 .level0 {\n",
       "  border: 1px black solid !important;\n",
       "  background: #ffffff;\n",
       "  color: #231f20;\n",
       "}\n",
       "#T_86c05_row0_col0, #T_86c05_row0_col1, #T_86c05_row0_col2, #T_86c05_row0_col3, #T_86c05_row0_col4, #T_86c05_row0_col5, #T_86c05_row0_col6, #T_86c05_row1_col0, #T_86c05_row1_col1, #T_86c05_row1_col2, #T_86c05_row1_col3, #T_86c05_row1_col4, #T_86c05_row1_col5, #T_86c05_row1_col6, #T_86c05_row2_col0, #T_86c05_row2_col1, #T_86c05_row2_col2, #T_86c05_row2_col3, #T_86c05_row2_col4, #T_86c05_row2_col5, #T_86c05_row2_col6 {\n",
       "  text-align: left;\n",
       "  border: 1px #231f20 solid !important;\n",
       "  overwrite: False;\n",
       "}\n",
       "#T_86c05_row0_col7, #T_86c05_row1_col7, #T_86c05_row2_col7 {\n",
       "  text-align: left;\n",
       "  border: 1px #231f20 solid !important;\n",
       "  overwrite: False;\n",
       "  background-color: #c3ffc4;\n",
       "}\n",
       "#T_86c05_row0_col8, #T_86c05_row1_col8, #T_86c05_row2_col8 {\n",
       "  text-align: left;\n",
       "  border: 1px #231f20 solid !important;\n",
       "  overwrite: False;\n",
       "  background-color: ;\n",
       "}\n",
       "</style>\n",
       "<table id=\"T_86c05\">\n",
       "  <caption>Networks</caption>\n",
       "  <thead>\n",
       "    <tr>\n",
       "      <th id=\"T_86c05_level0_col0\" class=\"col_heading level0 col0\" >ID</th>\n",
       "      <th id=\"T_86c05_level0_col1\" class=\"col_heading level0 col1\" >Name</th>\n",
       "      <th id=\"T_86c05_level0_col2\" class=\"col_heading level0 col2\" >Layer</th>\n",
       "      <th id=\"T_86c05_level0_col3\" class=\"col_heading level0 col3\" >Type</th>\n",
       "      <th id=\"T_86c05_level0_col4\" class=\"col_heading level0 col4\" >Site</th>\n",
       "      <th id=\"T_86c05_level0_col5\" class=\"col_heading level0 col5\" >Subnet</th>\n",
       "      <th id=\"T_86c05_level0_col6\" class=\"col_heading level0 col6\" >Gateway</th>\n",
       "      <th id=\"T_86c05_level0_col7\" class=\"col_heading level0 col7\" >State</th>\n",
       "      <th id=\"T_86c05_level0_col8\" class=\"col_heading level0 col8\" >Error</th>\n",
       "    </tr>\n",
       "  </thead>\n",
       "  <tbody>\n",
       "    <tr>\n",
       "      <td id=\"T_86c05_row0_col0\" class=\"data row0 col0\" >de10b4f1-b3ed-4c7a-85fe-07714bace9b1</td>\n",
       "      <td id=\"T_86c05_row0_col1\" class=\"data row0 col1\" >FABNET_IPv4_CERN</td>\n",
       "      <td id=\"T_86c05_row0_col2\" class=\"data row0 col2\" >L3</td>\n",
       "      <td id=\"T_86c05_row0_col3\" class=\"data row0 col3\" >FABNetv4</td>\n",
       "      <td id=\"T_86c05_row0_col4\" class=\"data row0 col4\" >CERN</td>\n",
       "      <td id=\"T_86c05_row0_col5\" class=\"data row0 col5\" >10.143.3.0/24</td>\n",
       "      <td id=\"T_86c05_row0_col6\" class=\"data row0 col6\" >10.143.3.1</td>\n",
       "      <td id=\"T_86c05_row0_col7\" class=\"data row0 col7\" >Active</td>\n",
       "      <td id=\"T_86c05_row0_col8\" class=\"data row0 col8\" ></td>\n",
       "    </tr>\n",
       "    <tr>\n",
       "      <td id=\"T_86c05_row1_col0\" class=\"data row1 col0\" >7914d022-b131-481d-98d3-452610f45ee9</td>\n",
       "      <td id=\"T_86c05_row1_col1\" class=\"data row1 col1\" >FABNET_IPv4_CLEM</td>\n",
       "      <td id=\"T_86c05_row1_col2\" class=\"data row1 col2\" >L3</td>\n",
       "      <td id=\"T_86c05_row1_col3\" class=\"data row1 col3\" >FABNetv4</td>\n",
       "      <td id=\"T_86c05_row1_col4\" class=\"data row1 col4\" >CLEM</td>\n",
       "      <td id=\"T_86c05_row1_col5\" class=\"data row1 col5\" >10.136.5.0/24</td>\n",
       "      <td id=\"T_86c05_row1_col6\" class=\"data row1 col6\" >10.136.5.1</td>\n",
       "      <td id=\"T_86c05_row1_col7\" class=\"data row1 col7\" >Active</td>\n",
       "      <td id=\"T_86c05_row1_col8\" class=\"data row1 col8\" ></td>\n",
       "    </tr>\n",
       "    <tr>\n",
       "      <td id=\"T_86c05_row2_col0\" class=\"data row2 col0\" >b7cd438d-d7d5-4e7c-8eeb-0be6c1b6cc45</td>\n",
       "      <td id=\"T_86c05_row2_col1\" class=\"data row2 col1\" >FABNET_IPv4_STAR</td>\n",
       "      <td id=\"T_86c05_row2_col2\" class=\"data row2 col2\" >L3</td>\n",
       "      <td id=\"T_86c05_row2_col3\" class=\"data row2 col3\" >FABNetv4</td>\n",
       "      <td id=\"T_86c05_row2_col4\" class=\"data row2 col4\" >STAR</td>\n",
       "      <td id=\"T_86c05_row2_col5\" class=\"data row2 col5\" >10.129.129.0/24</td>\n",
       "      <td id=\"T_86c05_row2_col6\" class=\"data row2 col6\" >10.129.129.1</td>\n",
       "      <td id=\"T_86c05_row2_col7\" class=\"data row2 col7\" >Active</td>\n",
       "      <td id=\"T_86c05_row2_col8\" class=\"data row2 col8\" ></td>\n",
       "    </tr>\n",
       "  </tbody>\n",
       "</table>\n"
      ],
      "text/plain": [
       "<pandas.io.formats.style.Styler at 0x7f48506720e0>"
      ]
     },
     "metadata": {},
     "output_type": "display_data"
    },
    {
     "data": {
      "text/html": [
       "<style type=\"text/css\">\n",
       "#T_869fc caption {\n",
       "  text-align: center;\n",
       "  font-size: 150%;\n",
       "  caption-side: top;\n",
       "}\n",
       "#T_869fc th {\n",
       "  text-align: left;\n",
       "}\n",
       "#T_869fc tr:nth-child(even) {\n",
       "  background: #ffffff;\n",
       "  color: #231f20;\n",
       "}\n",
       "#T_869fc tr:nth-child(odd) {\n",
       "  background: #dbf3ff;\n",
       "  color: #231f20;\n",
       "}\n",
       "#T_869fc .level0 {\n",
       "  border: 1px black solid !important;\n",
       "  background: #ffffff;\n",
       "  color: #231f20;\n",
       "}\n",
       "#T_869fc_row0_col0, #T_869fc_row0_col1, #T_869fc_row0_col2, #T_869fc_row0_col3, #T_869fc_row0_col4, #T_869fc_row0_col5, #T_869fc_row0_col6, #T_869fc_row0_col7, #T_869fc_row0_col8, #T_869fc_row0_col9, #T_869fc_row0_col10, #T_869fc_row0_col11, #T_869fc_row1_col0, #T_869fc_row1_col1, #T_869fc_row1_col2, #T_869fc_row1_col3, #T_869fc_row1_col4, #T_869fc_row1_col5, #T_869fc_row1_col6, #T_869fc_row1_col7, #T_869fc_row1_col8, #T_869fc_row1_col9, #T_869fc_row1_col10, #T_869fc_row1_col11, #T_869fc_row2_col0, #T_869fc_row2_col1, #T_869fc_row2_col2, #T_869fc_row2_col3, #T_869fc_row2_col4, #T_869fc_row2_col5, #T_869fc_row2_col6, #T_869fc_row2_col7, #T_869fc_row2_col8, #T_869fc_row2_col9, #T_869fc_row2_col10, #T_869fc_row2_col11 {\n",
       "  text-align: left;\n",
       "  border: 1px #231f20 solid !important;\n",
       "  overwrite: False;\n",
       "}\n",
       "</style>\n",
       "<table id=\"T_869fc\">\n",
       "  <caption>Interfaces</caption>\n",
       "  <thead>\n",
       "    <tr>\n",
       "      <th id=\"T_869fc_level0_col0\" class=\"col_heading level0 col0\" >Name</th>\n",
       "      <th id=\"T_869fc_level0_col1\" class=\"col_heading level0 col1\" >Short Name</th>\n",
       "      <th id=\"T_869fc_level0_col2\" class=\"col_heading level0 col2\" >Node</th>\n",
       "      <th id=\"T_869fc_level0_col3\" class=\"col_heading level0 col3\" >Network</th>\n",
       "      <th id=\"T_869fc_level0_col4\" class=\"col_heading level0 col4\" >Bandwidth</th>\n",
       "      <th id=\"T_869fc_level0_col5\" class=\"col_heading level0 col5\" >Mode</th>\n",
       "      <th id=\"T_869fc_level0_col6\" class=\"col_heading level0 col6\" >VLAN</th>\n",
       "      <th id=\"T_869fc_level0_col7\" class=\"col_heading level0 col7\" >MAC</th>\n",
       "      <th id=\"T_869fc_level0_col8\" class=\"col_heading level0 col8\" >Physical Device</th>\n",
       "      <th id=\"T_869fc_level0_col9\" class=\"col_heading level0 col9\" >Device</th>\n",
       "      <th id=\"T_869fc_level0_col10\" class=\"col_heading level0 col10\" >IP Address</th>\n",
       "      <th id=\"T_869fc_level0_col11\" class=\"col_heading level0 col11\" >Numa Node</th>\n",
       "    </tr>\n",
       "  </thead>\n",
       "  <tbody>\n",
       "    <tr>\n",
       "      <td id=\"T_869fc_row0_col0\" class=\"data row0 col0\" >Node1-FABNET_IPv4_STAR_nic-p1</td>\n",
       "      <td id=\"T_869fc_row0_col1\" class=\"data row0 col1\" >p1</td>\n",
       "      <td id=\"T_869fc_row0_col2\" class=\"data row0 col2\" >Node1</td>\n",
       "      <td id=\"T_869fc_row0_col3\" class=\"data row0 col3\" >FABNET_IPv4_STAR</td>\n",
       "      <td id=\"T_869fc_row0_col4\" class=\"data row0 col4\" >100</td>\n",
       "      <td id=\"T_869fc_row0_col5\" class=\"data row0 col5\" >auto</td>\n",
       "      <td id=\"T_869fc_row0_col6\" class=\"data row0 col6\" ></td>\n",
       "      <td id=\"T_869fc_row0_col7\" class=\"data row0 col7\" >02:5C:96:36:FB:07</td>\n",
       "      <td id=\"T_869fc_row0_col8\" class=\"data row0 col8\" >enp7s0</td>\n",
       "      <td id=\"T_869fc_row0_col9\" class=\"data row0 col9\" >enp7s0</td>\n",
       "      <td id=\"T_869fc_row0_col10\" class=\"data row0 col10\" >10.129.129.2</td>\n",
       "      <td id=\"T_869fc_row0_col11\" class=\"data row0 col11\" >6</td>\n",
       "    </tr>\n",
       "    <tr>\n",
       "      <td id=\"T_869fc_row1_col0\" class=\"data row1 col0\" >Node2-FABNET_IPv4_CERN_nic-p1</td>\n",
       "      <td id=\"T_869fc_row1_col1\" class=\"data row1 col1\" >p1</td>\n",
       "      <td id=\"T_869fc_row1_col2\" class=\"data row1 col2\" >Node2</td>\n",
       "      <td id=\"T_869fc_row1_col3\" class=\"data row1 col3\" >FABNET_IPv4_CERN</td>\n",
       "      <td id=\"T_869fc_row1_col4\" class=\"data row1 col4\" >100</td>\n",
       "      <td id=\"T_869fc_row1_col5\" class=\"data row1 col5\" >auto</td>\n",
       "      <td id=\"T_869fc_row1_col6\" class=\"data row1 col6\" ></td>\n",
       "      <td id=\"T_869fc_row1_col7\" class=\"data row1 col7\" >0E:AC:A4:66:B5:FC</td>\n",
       "      <td id=\"T_869fc_row1_col8\" class=\"data row1 col8\" >enp7s0</td>\n",
       "      <td id=\"T_869fc_row1_col9\" class=\"data row1 col9\" >enp7s0</td>\n",
       "      <td id=\"T_869fc_row1_col10\" class=\"data row1 col10\" >10.143.3.2</td>\n",
       "      <td id=\"T_869fc_row1_col11\" class=\"data row1 col11\" >4</td>\n",
       "    </tr>\n",
       "    <tr>\n",
       "      <td id=\"T_869fc_row2_col0\" class=\"data row2 col0\" >Node3-FABNET_IPv4_CLEM_nic-p1</td>\n",
       "      <td id=\"T_869fc_row2_col1\" class=\"data row2 col1\" >p1</td>\n",
       "      <td id=\"T_869fc_row2_col2\" class=\"data row2 col2\" >Node3</td>\n",
       "      <td id=\"T_869fc_row2_col3\" class=\"data row2 col3\" >FABNET_IPv4_CLEM</td>\n",
       "      <td id=\"T_869fc_row2_col4\" class=\"data row2 col4\" >100</td>\n",
       "      <td id=\"T_869fc_row2_col5\" class=\"data row2 col5\" >auto</td>\n",
       "      <td id=\"T_869fc_row2_col6\" class=\"data row2 col6\" ></td>\n",
       "      <td id=\"T_869fc_row2_col7\" class=\"data row2 col7\" >06:E6:7C:D5:FB:76</td>\n",
       "      <td id=\"T_869fc_row2_col8\" class=\"data row2 col8\" >enp6s0</td>\n",
       "      <td id=\"T_869fc_row2_col9\" class=\"data row2 col9\" >enp6s0</td>\n",
       "      <td id=\"T_869fc_row2_col10\" class=\"data row2 col10\" >10.136.5.2</td>\n",
       "      <td id=\"T_869fc_row2_col11\" class=\"data row2 col11\" >6</td>\n",
       "    </tr>\n",
       "  </tbody>\n",
       "</table>\n"
      ],
      "text/plain": [
       "<pandas.io.formats.style.Styler at 0x7f486a909570>"
      ]
     },
     "metadata": {},
     "output_type": "display_data"
    },
    {
     "name": "stdout",
     "output_type": "stream",
     "text": [
      "\n",
      "Time to print interfaces 280 seconds\n"
     ]
    }
   ],
   "source": [
    "\n",
    "#Create Slice. add_fabnet() automatically adds an L3 interface on each node and assigns an IP address.\n",
    "slice = fablib.new_slice(name=slice_name)\n",
    "\n",
    "# Node1\n",
    "node1 = slice.add_node(name=node1_name, site=site1, image='docker_rocky_8')\n",
    "node1.add_fabnet()\n",
    "\n",
    "# Node2\n",
    "node2 = slice.add_node(name=node2_name, site=site2, image='docker_rocky_8')\n",
    "node2.add_fabnet()\n",
    "\n",
    "# Node3\n",
    "node3 = slice.add_node(name=node3_name, site=site3, image='docker_rocky_8')\n",
    "node3.add_fabnet()\n",
    "\n",
    "#Submit Slice Request\n",
    "slice.submit();"
   ]
  },
  {
   "cell_type": "markdown",
   "id": "9e175290-ffdf-43fe-8635-81858c2001ed",
   "metadata": {
    "tags": []
   },
   "source": [
    "## (Optional) Observe the Slice's Attributes"
   ]
  },
  {
   "cell_type": "code",
   "execution_count": 1,
   "id": "326c5d14-5780-4fc1-9c37-aa5aede2256c",
   "metadata": {
    "tags": []
   },
   "outputs": [
    {
     "name": "stdout",
     "output_type": "stream",
     "text": [
      "Exception: name 'fablib' is not defined\n"
     ]
    }
   ],
   "source": [
    "try:\n",
    "    slice = fablib.get_slice(name=slice_name)\n",
    "    slice.show()\n",
    "    slice.list_nodes()\n",
    "    slice.list_networks()\n",
    "    slice.list_interfaces()\n",
    "except Exception as e:\n",
    "    print(f\"Exception: {e}\")"
   ]
  },
  {
   "cell_type": "markdown",
   "id": "2f7dce34-05d3-4023-be7a-57416b204cb9",
   "metadata": {
    "tags": []
   },
   "source": [
    "<!-- ## Configure IP Addresses\n",
    "\n",
    "### Get the Assigned Subnet\n",
    "\n",
    "FABnetv4 networks are assigned a subnet and gateway by FABRIC.  You can get the subnet and available IPs from the FABlib objects.  -->"
   ]
  },
  {
   "cell_type": "markdown",
   "id": "ad81bf09-3db5-4814-94ab-d6c4f3551109",
   "metadata": {},
   "source": [
    "## Check connectivity via Experimenter's network"
   ]
  },
  {
   "cell_type": "code",
   "execution_count": 4,
   "id": "e248025e-3a5e-4393-8951-aa4c9f51a6f5",
   "metadata": {},
   "outputs": [
    {
     "name": "stdout",
     "output_type": "stream",
     "text": [
      "Node1\n",
      "PING 10.136.5.2 (10.136.5.2) 56(84) bytes of data.\n",
      "64 bytes from 10.136.5.2: icmp_seq=1 ttl=61 time=32.3 ms\n",
      "64 bytes from 10.136.5.2: icmp_seq=2 ttl=61 time=30.6 ms\n",
      "64 bytes from 10.136.5.2: icmp_seq=3 ttl=61 time=30.6 ms\n",
      "64 bytes from 10.136.5.2: icmp_seq=4 ttl=61 time=30.6 ms\n",
      "64 bytes from 10.136.5.2: icmp_seq=5 ttl=61 time=30.5 ms\n",
      "\n",
      "--- 10.136.5.2 ping statistics ---\n",
      "5 packets transmitted, 5 received, 0% packet loss, time 4006ms\n",
      "rtt min/avg/max/mdev = 30.548/30.913/32.267/0.677 ms\n"
     ]
    }
   ],
   "source": [
    "try:\n",
    "    node1 = slice.get_node(name=node1_name)   \n",
    "    node3 = slice.get_node(name=node3_name)\n",
    "    node3_addr = node3.get_interface(network_name=f'FABNET_IPv4_{node3.get_site()}').get_ip_addr()\n",
    "    \n",
    "    node1.execute('hostname')\n",
    "    stdout, stderr = node1.execute(f'ping -c 5 {node3_addr}')  \n",
    "    \n",
    "except Exception as e:\n",
    "    print(f\"Exception: {e}\")"
   ]
  },
  {
   "cell_type": "markdown",
   "id": "574f49ea-fc0c-4f22-9de3-96241bb930a6",
   "metadata": {},
   "source": [
    "# Prepare each node for time precision experiments"
   ]
  },
  {
   "cell_type": "code",
   "execution_count": 5,
   "id": "a026a239-32dc-48f8-bdf9-3f13f14d9903",
   "metadata": {},
   "outputs": [],
   "source": [
    "nodes = slice.get_nodes()"
   ]
  },
  {
   "cell_type": "markdown",
   "id": "6979caa6-df17-43da-95c8-8f0da9c3b92d",
   "metadata": {},
   "source": [
    "## Enable NAT64"
   ]
  },
  {
   "cell_type": "markdown",
   "id": "27fbfa9d-8b23-4dfc-b837-d4e56fc95b2f",
   "metadata": {},
   "source": [
    "### Upload and Execute the NAT64 Script\n",
    "\n",
    "We will use a NAT64 script, which configures an *IPv6* node so that it can access non-*IPv6* services. To view the script, click [here](./nat64.sh). This script sets up the [Public NAT64 Service](https://nat64.net) on your node.\n",
    "\n",
    "For more details on how uploading and executing scripts works on FABRIC, click [here](../upload_and_execute/upload_and_execute.ipynb).\n",
    "\n",
    "Based on https://nat64.net/\n",
    "Note that NAT64 could go away at any minute, as it is a public service ran independently by Kasper Dupont, and is not affiliated with FABRIC."
   ]
  },
  {
   "cell_type": "code",
   "execution_count": 6,
   "id": "f5835030-3861-4e9a-887d-66c7bab2fd3f",
   "metadata": {},
   "outputs": [
    {
     "name": "stdout",
     "output_type": "stream",
     "text": [
      "\u001b[31m Cloning into 'jupyter-examples'...\n",
      " \u001b[0mChangelog.md\n",
      "configure.ipynb\n",
      "docker_containers\n",
      "fabric_examples\n",
      "fabric_ssh_tunnel_tools\n",
      "LICENSE\n",
      "Readme.md\n",
      "requirements.txt\n",
      "start_here.ipynb\n",
      "\n",
      "Upgraded:\n",
      "  git-2.39.3-1.el8_8.x86_64                git-core-2.39.3-1.el8_8.x86_64      \n",
      "  git-core-doc-2.39.3-1.el8_8.noarch       perl-Git-2.39.3-1.el8_8.noarch      \n",
      "\n",
      "\u001b[31m Failed to set locale, defaulting to C.UTF-8\n",
      " \u001b[0m\u001b[31m Cloning into 'jupyter-examples'...\n",
      " \u001b[0mChangelog.md\n",
      "LICENSE\n",
      "Readme.md\n",
      "configure.ipynb\n",
      "docker_containers\n",
      "fabric_examples\n",
      "fabric_ssh_tunnel_tools\n",
      "requirements.txt\n",
      "start_here.ipynb\n",
      "\n",
      "Upgraded:\n",
      "  git-2.39.3-1.el8_8.x86_64                git-core-2.39.3-1.el8_8.x86_64      \n",
      "  git-core-doc-2.39.3-1.el8_8.noarch       perl-Git-2.39.3-1.el8_8.noarch      \n",
      "\n",
      "\u001b[31m Failed to set locale, defaulting to C.UTF-8\n",
      " \u001b[0m\u001b[31m Cloning into 'jupyter-examples'...\n",
      " \u001b[0mChangelog.md\n",
      "LICENSE\n",
      "Readme.md\n",
      "configure.ipynb\n",
      "docker_containers\n",
      "fabric_examples\n",
      "fabric_ssh_tunnel_tools\n",
      "requirements.txt\n",
      "start_here.ipynb\n"
     ]
    }
   ],
   "source": [
    "# Change this to all nodes\n",
    "\n",
    "from ipaddress import ip_address, IPv6Address\n",
    "\n",
    "for node in nodes:\n",
    "    try:     \n",
    "        # If the node is an IPv6 Node then configure NAT64\n",
    "        if node.validIPAddress(node.get_management_ip()) == \"IPv6\":\n",
    "            # needed to fix sudo unable to resolve error\n",
    "            commands = \"\"\"\n",
    "            sudo echo -n \"127.0.0.1 \" | sudo cat - /etc/hostname  | sudo tee -a /etc/hosts;\n",
    "            sudo echo -n \"2a01:4f9:c010:3f02:64:0:8c52:7103       github.com\\n\"|sudo tee -a /etc/hosts;\n",
    "            sudo echo -n \"2a01:4f9:c010:3f02:64:0:8c52:7009       codeload.github.com\\n\"|sudo tee -a /etc/hosts;\n",
    "            sudo echo -n \"2a01:4f9:c010:3f02:64:0:b9c7:6e85       objects.githubusercontent.com\\n\"|sudo tee -a /etc/hosts;\n",
    "            sudo echo -n \"2600:1fa0:80b4:db49:34d9:6d1e::         ansible-galaxy.s3.amazonaws.com\\n\"|sudo tee -a /etc/hosts;\n",
    "            sudo echo -n \"2a01:4f9:c010:3f02:64:0:3455:9777       packages.confluent.io\\n\"|sudo tee -a /etc/hosts;\n",
    "            \"\"\"\n",
    "            stdout, stderr = node.execute(commands, quiet=True)\n",
    "\n",
    "        # Access non-IPv6 Services\n",
    "        stdout, stderr = node.execute(f'sudo yum install -y -q git && git clone https://github.com/fabric-testbed/jupyter-examples.git')\n",
    "\n",
    "        stdout, stderr = node.execute(f'ls jupyter-examples')\n",
    "\n",
    "    except Exception as e:\n",
    "        print(f\"Exception: {e}\")"
   ]
  },
  {
   "cell_type": "markdown",
   "id": "215e13f2-c0ae-429f-8fc2-801473bfe667",
   "metadata": {},
   "source": [
    "## Set up PTP (Precision Time Protocol)"
   ]
  },
  {
   "cell_type": "markdown",
   "id": "d7b8ab04-5d78-4d42-8bbe-5a21c2f2ceac",
   "metadata": {},
   "source": [
    "#### Clone MeasurementFramework Git repo Locally"
   ]
  },
  {
   "cell_type": "code",
   "execution_count": 7,
   "id": "2c2255bd-8c9d-414a-9a5d-b8b680376437",
   "metadata": {},
   "outputs": [
    {
     "name": "stderr",
     "output_type": "stream",
     "text": [
      "Cloning into '/tmp/MF'...\n"
     ]
    }
   ],
   "source": [
    "%%bash\n",
    "rm -rf /tmp/MF;\n",
    "git clone https://github.com/fabric-testbed/MeasurementFramework.git /tmp/MF;"
   ]
  },
  {
   "cell_type": "markdown",
   "id": "06c64ca8-3679-4d4a-bb3c-498d721abb48",
   "metadata": {},
   "source": [
    "#### Install and setup linux ptp package on all nodes "
   ]
  },
  {
   "cell_type": "code",
   "execution_count": 8,
   "id": "74713cea-d187-4a0f-83a5-6f47e6974dfa",
   "metadata": {},
   "outputs": [
    {
     "name": "stdout",
     "output_type": "stream",
     "text": [
      "Installing PTP on Node1\n",
      "\n",
      "PLAY [all] *********************************************************************\n",
      "\u001b[31m sudo: apt-get: command not found\n",
      "sudo: apt-get: command not found\n",
      "Importing GPG key 0xE451E5B5:\n",
      " Userid     : \"CentOS Storage SIG (http://wiki.centos.org/SpecialInterestGroup/Storage) <security@centos.org>\"\n",
      " Fingerprint: 7412 9C0B 173B 071A 3775 951A D4A2 E50B E451 E5B5\n",
      " From       : /etc/pki/rpm-gpg/RPM-GPG-KEY-CentOS-SIG-Storage\n",
      "bash: line 1: Last: command not found\n",
      " \u001b[0m\n",
      "TASK [Gathering Facts] *********************************************************\n",
      "ok: [127.0.0.1]\n",
      "\n",
      "TASK [linuxptp : include] ******************************************************\n",
      "included: /tmp/ansible/roles/linuxptp/tasks/find_ptp_interfaces.yml for 127.0.0.1\n",
      "included: /tmp/ansible/roles/linuxptp/tasks/find_ptp_interfaces.yml for 127.0.0.1\n",
      "included: /tmp/ansible/roles/linuxptp/tasks/find_ptp_interfaces.yml for 127.0.0.1\n",
      "\n",
      "TASK [linuxptp : Check if Interface enp7s0 is PTP capable] *********************\n",
      "changed: [127.0.0.1]\n",
      "\n",
      "TASK [linuxptp : set_fact] *****************************************************\n",
      "ok: [127.0.0.1]\n",
      "\n",
      "TASK [linuxptp : Check if Interface lo is PTP capable] *************************\n",
      "changed: [127.0.0.1]\n",
      "\n",
      "TASK [linuxptp : set_fact] *****************************************************\n",
      "skipping: [127.0.0.1]\n",
      "\n",
      "TASK [linuxptp : Check if Interface enp3s0 is PTP capable] *********************\n",
      "changed: [127.0.0.1]\n",
      "\n",
      "TASK [linuxptp : set_fact] *****************************************************\n",
      "skipping: [127.0.0.1]\n",
      "\n",
      "TASK [linuxptp : Check if ptp4l is installed] **********************************\n",
      "changed: [127.0.0.1]\n",
      "\n",
      "TASK [linuxptp : Update package cache in case of Debian based system (workaround)] ***\n",
      "skipping: [127.0.0.1]\n",
      "\n",
      "TASK [linuxptp : Install dependencies] *****************************************\n",
      "skipping: [127.0.0.1]\n",
      "\n",
      "TASK [Download linuxptp] *******************************************************\n",
      "skipping: [127.0.0.1]\n",
      "\n",
      "TASK [linuxptp : Run 'make clean' target as root] ******************************\n",
      "skipping: [127.0.0.1]\n",
      "\n",
      "TASK [linuxptp : Run 'make install' target as root] ****************************\n",
      "skipping: [127.0.0.1]\n",
      "\n",
      "TASK [linuxptp : set_fact] *****************************************************\n",
      "ok: [127.0.0.1]\n",
      "\n",
      "TASK [linuxptp : Stop and Disable Chronyd] *************************************\n",
      "changed: [127.0.0.1]\n",
      "\n",
      "TASK [linuxptp : Modprobe ptp_kvm] *********************************************\n",
      "changed: [127.0.0.1]\n",
      "\n",
      "TASK [linuxptp : Ansible modprobe file for ptp_kvm] ****************************\n",
      "changed: [127.0.0.1]\n",
      "\n",
      "TASK [linuxptp : Remove old service files] *************************************\n",
      "\u001b[31m [WARNING]: Consider using the file module with state=absent rather than running\n",
      "'rm'.  If you need to use command because file is insufficient you can add\n",
      "'warn: false' to this command task or set 'command_warnings=False' in\n",
      "ansible.cfg to get rid of this message.\n",
      " \u001b[0mchanged: [127.0.0.1]\n",
      "\n",
      "TASK [linuxptp : Template phc2sys for PTP Capable Interfaces in KVM] ***********\n",
      "changed: [127.0.0.1]\n",
      "\n",
      "TASK [linuxptp : blockinfile] **************************************************\n",
      "changed: [127.0.0.1] => (item={'path': 'ptp4l', 'conf': '/var/log/ptp4l.log {\n",
      "       daily\n",
      "       rotate 7\n",
      "       size 10M\n",
      "       compress\n",
      "       delaycompress\n",
      "       copytruncate\n",
      "       missingok\n",
      "}\n",
      "'})\n",
      "changed: [127.0.0.1] => (item={'path': 'phc2sys', 'conf': '/var/log/phc2sys.log {\n",
      "       daily\n",
      "       rotate 7\n",
      "       size 10M\n",
      "       compress\n",
      "       delaycompress\n",
      "       copytruncate\n",
      "       missingok\n",
      "}\n",
      "'})\n",
      "\n",
      "TASK [linuxptp : blockinfile] **************************************************\n",
      "changed: [127.0.0.1] => (item={'path': 'ptp4l', 'conf': \"if $programname == 'ptp4l' then /var/log/ptp4l.log\n",
      "  & stop\n",
      "\"})\n",
      "changed: [127.0.0.1] => (item={'path': 'phc2sys', 'conf': \"if $programname == 'phc2sys' then /var/log/phc2sys.log\n",
      "  & stop\n",
      "\"})\n",
      "\n",
      "TASK [linuxptp : Re-read systemd services] *************************************\n",
      "ok: [127.0.0.1]\n",
      "\n",
      "TASK [linuxptp : Start Syslog Services] ****************************************\n",
      "changed: [127.0.0.1] => (item=rsyslog)\n",
      "\n",
      "TASK [linuxptp : Stop phc2sys service for PTP Capable Interfaces] **************\n",
      "ok: [127.0.0.1] => (item=enp7s0)\n",
      "ok: [127.0.0.1] => (item=CLOCK_REALTIME)\n",
      "\n",
      "TASK [linuxptp : Start phc2sys service for PTP Capable Interfaces] *************\n",
      "changed: [127.0.0.1] => (item=enp7s0)\n",
      "changed: [127.0.0.1] => (item=CLOCK_REALTIME)\n",
      "\n",
      "PLAY RECAP *********************************************************************\n",
      "127.0.0.1                  : ok=21   changed=13   unreachable=0    failed=0    skipped=7    rescued=0    ignored=0   \n",
      "\n",
      "Installation of PTP Completed on Node1\n",
      "\n",
      "\n",
      "Installing PTP on Node2\n",
      "\n",
      "PLAY [all] *********************************************************************\n",
      "\u001b[31m sudo: apt-get: command not found\n",
      "sudo: apt-get: command not found\n",
      "Failed to set locale, defaulting to C.UTF-8\n",
      "Failed to set locale, defaulting to C.UTF-8\n",
      "Importing GPG key 0xE451E5B5:\n",
      " Userid     : \"CentOS Storage SIG (http://wiki.centos.org/SpecialInterestGroup/Storage) <security@centos.org>\"\n",
      " Fingerprint: 7412 9C0B 173B 071A 3775 951A D4A2 E50B E451 E5B5\n",
      " From       : /etc/pki/rpm-gpg/RPM-GPG-KEY-CentOS-SIG-Storage\n",
      "bash: line 1: Last: command not found\n",
      " \u001b[0m\n",
      "TASK [Gathering Facts] *********************************************************\n",
      "ok: [127.0.0.1]\n",
      "\n",
      "TASK [linuxptp : include] ******************************************************\n",
      "included: /tmp/ansible/roles/linuxptp/tasks/find_ptp_interfaces.yml for 127.0.0.1\n",
      "included: /tmp/ansible/roles/linuxptp/tasks/find_ptp_interfaces.yml for 127.0.0.1\n",
      "included: /tmp/ansible/roles/linuxptp/tasks/find_ptp_interfaces.yml for 127.0.0.1\n",
      "\n",
      "TASK [linuxptp : Check if Interface enp3s0 is PTP capable] *********************\n",
      "changed: [127.0.0.1]\n",
      "\n",
      "TASK [linuxptp : set_fact] *****************************************************\n",
      "skipping: [127.0.0.1]\n",
      "\n",
      "TASK [linuxptp : Check if Interface enp7s0 is PTP capable] *********************\n",
      "changed: [127.0.0.1]\n",
      "\n",
      "TASK [linuxptp : set_fact] *****************************************************\n",
      "ok: [127.0.0.1]\n",
      "\n",
      "TASK [linuxptp : Check if Interface lo is PTP capable] *************************\n",
      "changed: [127.0.0.1]\n",
      "\n",
      "TASK [linuxptp : set_fact] *****************************************************\n",
      "skipping: [127.0.0.1]\n",
      "\n",
      "TASK [linuxptp : Check if ptp4l is installed] **********************************\n",
      "changed: [127.0.0.1]\n",
      "\n",
      "TASK [linuxptp : Update package cache in case of Debian based system (workaround)] ***\n",
      "skipping: [127.0.0.1]\n",
      "\n",
      "TASK [linuxptp : Install dependencies] *****************************************\n",
      "skipping: [127.0.0.1]\n",
      "\n",
      "TASK [Download linuxptp] *******************************************************\n",
      "skipping: [127.0.0.1]\n",
      "\n",
      "TASK [linuxptp : Run 'make clean' target as root] ******************************\n",
      "skipping: [127.0.0.1]\n",
      "\n",
      "TASK [linuxptp : Run 'make install' target as root] ****************************\n",
      "skipping: [127.0.0.1]\n",
      "\n",
      "TASK [linuxptp : set_fact] *****************************************************\n",
      "ok: [127.0.0.1]\n",
      "\n",
      "TASK [linuxptp : Stop and Disable Chronyd] *************************************\n",
      "changed: [127.0.0.1]\n",
      "\n",
      "TASK [linuxptp : Modprobe ptp_kvm] *********************************************\n",
      "changed: [127.0.0.1]\n",
      "\n",
      "TASK [linuxptp : Ansible modprobe file for ptp_kvm] ****************************\n",
      "changed: [127.0.0.1]\n",
      "\n",
      "TASK [linuxptp : Remove old service files] *************************************\n",
      "changed: [127.0.0.1]\n",
      "\u001b[31m [WARNING]: Consider using the file module with state=absent rather than running\n",
      "'rm'.  If you need to use command because file is insufficient you can add\n",
      "'warn: false' to this command task or set 'command_warnings=False' in\n",
      "ansible.cfg to get rid of this message.\n",
      " \u001b[0m\n",
      "TASK [linuxptp : Template phc2sys for PTP Capable Interfaces in KVM] ***********\n",
      "changed: [127.0.0.1]\n",
      "\n",
      "TASK [linuxptp : blockinfile] **************************************************\n",
      "changed: [127.0.0.1] => (item={'path': 'ptp4l', 'conf': '/var/log/ptp4l.log {\n",
      "       daily\n",
      "       rotate 7\n",
      "       size 10M\n",
      "       compress\n",
      "       delaycompress\n",
      "       copytruncate\n",
      "       missingok\n",
      "}\n",
      "'})\n",
      "changed: [127.0.0.1] => (item={'path': 'phc2sys', 'conf': '/var/log/phc2sys.log {\n",
      "       daily\n",
      "       rotate 7\n",
      "       size 10M\n",
      "       compress\n",
      "       delaycompress\n",
      "       copytruncate\n",
      "       missingok\n",
      "}\n",
      "'})\n",
      "\n",
      "TASK [linuxptp : blockinfile] **************************************************\n",
      "changed: [127.0.0.1] => (item={'path': 'ptp4l', 'conf': \"if $programname == 'ptp4l' then /var/log/ptp4l.log\n",
      "  & stop\n",
      "\"})\n",
      "changed: [127.0.0.1] => (item={'path': 'phc2sys', 'conf': \"if $programname == 'phc2sys' then /var/log/phc2sys.log\n",
      "  & stop\n",
      "\"})\n",
      "\n",
      "TASK [linuxptp : Re-read systemd services] *************************************\n",
      "ok: [127.0.0.1]\n",
      "\n",
      "TASK [linuxptp : Start Syslog Services] ****************************************\n",
      "changed: [127.0.0.1] => (item=rsyslog)\n",
      "\n",
      "TASK [linuxptp : Stop phc2sys service for PTP Capable Interfaces] **************\n",
      "ok: [127.0.0.1] => (item=enp7s0)\n",
      "ok: [127.0.0.1] => (item=CLOCK_REALTIME)\n",
      "\n",
      "TASK [linuxptp : Start phc2sys service for PTP Capable Interfaces] *************\n",
      "changed: [127.0.0.1] => (item=enp7s0)\n",
      "changed: [127.0.0.1] => (item=CLOCK_REALTIME)\n",
      "\n",
      "PLAY RECAP *********************************************************************\n",
      "127.0.0.1                  : ok=21   changed=13   unreachable=0    failed=0    skipped=7    rescued=0    ignored=0   \n",
      "\n",
      "Installation of PTP Completed on Node2\n",
      "\n",
      "\n",
      "Installing PTP on Node3\n",
      "\n",
      "PLAY [all] *********************************************************************\n",
      "\u001b[31m sudo: apt-get: command not found\n",
      "sudo: apt-get: command not found\n",
      "Failed to set locale, defaulting to C.UTF-8\n",
      "Failed to set locale, defaulting to C.UTF-8\n",
      "Importing GPG key 0xE451E5B5:\n",
      " Userid     : \"CentOS Storage SIG (http://wiki.centos.org/SpecialInterestGroup/Storage) <security@centos.org>\"\n",
      " Fingerprint: 7412 9C0B 173B 071A 3775 951A D4A2 E50B E451 E5B5\n",
      " From       : /etc/pki/rpm-gpg/RPM-GPG-KEY-CentOS-SIG-Storage\n",
      "bash: line 1: Last: command not found\n",
      " \u001b[0m\n",
      "TASK [Gathering Facts] *********************************************************\n",
      "ok: [127.0.0.1]\n",
      "\n",
      "TASK [linuxptp : include] ******************************************************\n",
      "included: /tmp/ansible/roles/linuxptp/tasks/find_ptp_interfaces.yml for 127.0.0.1\n",
      "included: /tmp/ansible/roles/linuxptp/tasks/find_ptp_interfaces.yml for 127.0.0.1\n",
      "included: /tmp/ansible/roles/linuxptp/tasks/find_ptp_interfaces.yml for 127.0.0.1\n",
      "\n",
      "TASK [linuxptp : Check if Interface lo is PTP capable] *************************\n",
      "changed: [127.0.0.1]\n",
      "\n",
      "TASK [linuxptp : set_fact] *****************************************************\n",
      "skipping: [127.0.0.1]\n",
      "\n",
      "TASK [linuxptp : Check if Interface enp6s0 is PTP capable] *********************\n",
      "changed: [127.0.0.1]\n",
      "\n",
      "TASK [linuxptp : set_fact] *****************************************************\n",
      "ok: [127.0.0.1]\n",
      "\n",
      "TASK [linuxptp : Check if Interface enp1s0 is PTP capable] *********************\n",
      "changed: [127.0.0.1]\n",
      "\n",
      "TASK [linuxptp : set_fact] *****************************************************\n",
      "skipping: [127.0.0.1]\n",
      "\n",
      "TASK [linuxptp : Check if ptp4l is installed] **********************************\n",
      "changed: [127.0.0.1]\n",
      "\n",
      "TASK [linuxptp : Update package cache in case of Debian based system (workaround)] ***\n",
      "skipping: [127.0.0.1]\n",
      "\n",
      "TASK [linuxptp : Install dependencies] *****************************************\n",
      "skipping: [127.0.0.1]\n",
      "\n",
      "TASK [Download linuxptp] *******************************************************\n",
      "skipping: [127.0.0.1]\n",
      "\n",
      "TASK [linuxptp : Run 'make clean' target as root] ******************************\n",
      "skipping: [127.0.0.1]\n",
      "\n",
      "TASK [linuxptp : Run 'make install' target as root] ****************************\n",
      "skipping: [127.0.0.1]\n",
      "\n",
      "TASK [linuxptp : set_fact] *****************************************************\n",
      "ok: [127.0.0.1]\n",
      "\n",
      "TASK [linuxptp : Stop and Disable Chronyd] *************************************\n",
      "changed: [127.0.0.1]\n",
      "\n",
      "TASK [linuxptp : Modprobe ptp_kvm] *********************************************\n",
      "changed: [127.0.0.1]\n",
      "\n",
      "TASK [linuxptp : Ansible modprobe file for ptp_kvm] ****************************\n",
      "changed: [127.0.0.1]\n",
      "\n",
      "TASK [linuxptp : Remove old service files] *************************************\n",
      "changed: [127.0.0.1]\n",
      "\u001b[31m [WARNING]: Consider using the file module with state=absent rather than running\n",
      "'rm'.  If you need to use command because file is insufficient you can add\n",
      "'warn: false' to this command task or set 'command_warnings=False' in\n",
      "ansible.cfg to get rid of this message.\n",
      " \u001b[0m\n",
      "TASK [linuxptp : Template phc2sys for PTP Capable Interfaces in KVM] ***********\n",
      "changed: [127.0.0.1]\n",
      "\n",
      "TASK [linuxptp : blockinfile] **************************************************\n",
      "changed: [127.0.0.1] => (item={'path': 'ptp4l', 'conf': '/var/log/ptp4l.log {\n",
      "       daily\n",
      "       rotate 7\n",
      "       size 10M\n",
      "       compress\n",
      "       delaycompress\n",
      "       copytruncate\n",
      "       missingok\n",
      "}\n",
      "'})\n",
      "changed: [127.0.0.1] => (item={'path': 'phc2sys', 'conf': '/var/log/phc2sys.log {\n",
      "       daily\n",
      "       rotate 7\n",
      "       size 10M\n",
      "       compress\n",
      "       delaycompress\n",
      "       copytruncate\n",
      "       missingok\n",
      "}\n",
      "'})\n",
      "\n",
      "TASK [linuxptp : blockinfile] **************************************************\n",
      "changed: [127.0.0.1] => (item={'path': 'ptp4l', 'conf': \"if $programname == 'ptp4l' then /var/log/ptp4l.log\n",
      "  & stop\n",
      "\"})\n",
      "changed: [127.0.0.1] => (item={'path': 'phc2sys', 'conf': \"if $programname == 'phc2sys' then /var/log/phc2sys.log\n",
      "  & stop\n",
      "\"})\n",
      "\n",
      "TASK [linuxptp : Re-read systemd services] *************************************\n",
      "ok: [127.0.0.1]\n",
      "\n",
      "TASK [linuxptp : Start Syslog Services] ****************************************\n",
      "changed: [127.0.0.1] => (item=rsyslog)\n",
      "\n",
      "TASK [linuxptp : Stop phc2sys service for PTP Capable Interfaces] **************\n",
      "ok: [127.0.0.1] => (item=enp6s0)\n",
      "ok: [127.0.0.1] => (item=CLOCK_REALTIME)\n",
      "\n",
      "TASK [linuxptp : Start phc2sys service for PTP Capable Interfaces] *************\n",
      "changed: [127.0.0.1] => (item=enp6s0)\n",
      "changed: [127.0.0.1] => (item=CLOCK_REALTIME)\n",
      "\n",
      "PLAY RECAP *********************************************************************\n",
      "127.0.0.1                  : ok=21   changed=13   unreachable=0    failed=0    skipped=7    rescued=0    ignored=0   \n",
      "\n",
      "Installation of PTP Completed on Node3\n",
      "\n",
      "\n"
     ]
    }
   ],
   "source": [
    "pre_requisites = f\"\"\"\n",
    "`sudo apt-get update;sudo apt-get -y install ansible git` || `sudo dnf -y install epel-release ;sudo dnf -y install ansible git`\n",
    "\"\"\"\n",
    "ansible_instructions = f\"\"\"\n",
    "cd /tmp/ansible;ansible-playbook --connection=local --inventory 127.0.0.1, --limit 127.0.0.1 playbook_fabric_experiment_ptp.yml;\n",
    "\"\"\"\n",
    "\n",
    "for node in nodes:\n",
    "    print (f\"Installing PTP on {node.get_name()}\")\n",
    "    node.upload_directory('/tmp/MF/instrumentize/ptp/ansible','/tmp/')\n",
    "    node.execute(f\"{pre_requisites}\"\\\n",
    "                 f\"{ansible_instructions}\"\\\n",
    "                )\n",
    "    print (f\"Installation of PTP Completed on {node.get_name()}\\n\\n\")"
   ]
  },
  {
   "cell_type": "markdown",
   "id": "aea6efeb-2e11-4230-92c6-46f0eae848a4",
   "metadata": {},
   "source": [
    "## Start Docker "
   ]
  },
  {
   "cell_type": "code",
   "execution_count": 9,
   "id": "c05ca25a-aa2e-4b4d-981e-c1e10a2e6bb1",
   "metadata": {},
   "outputs": [
    {
     "name": "stdout",
     "output_type": "stream",
     "text": [
      "\u001b[31m Created symlink /etc/systemd/system/multi-user.target.wants/docker.service → /usr/lib/systemd/system/docker.service.\n",
      " \u001b[0m\n",
      " Verify installtion... on Node1\n",
      "\n",
      "Usage:  docker [OPTIONS] COMMAND\n",
      "\n",
      "A self-sufficient runtime for containers\n",
      "\n",
      "Common Commands:\n",
      "  run         Create and run a new container from an image\n",
      "  exec        Execute a command in a running container\n",
      "  ps          List containers\n",
      "  build       Build an image from a Dockerfile\n",
      "  pull        Download an image from a registry\n",
      "  push        Upload an image to a registry\n",
      "  images      List images\n",
      "  login       Log in to a registry\n",
      "  logout      Log out from a registry\n",
      "  search      Search Docker Hub for images\n",
      "  version     Show the Docker version information\n",
      "  info        Display system-wide information\n",
      "\n",
      "Management Commands:\n",
      "  builder     Manage builds\n",
      "  buildx*     Docker Buildx (Docker Inc., v0.10.5)\n",
      "  checkpoint  Manage checkpoints\n",
      "  compose*    Docker Compose (Docker Inc., v2.18.1)\n",
      "  container   Manage containers\n",
      "  context     Manage contexts\n",
      "  image       Manage images\n",
      "  manifest    Manage Docker image manifests and manifest lists\n",
      "  network     Manage networks\n",
      "  plugin      Manage plugins\n",
      "  system      Manage Docker\n",
      "  trust       Manage trust on Docker images\n",
      "  volume      Manage volumes\n",
      "\n",
      "Swarm Commands:\n",
      "  swarm       Manage Swarm\n",
      "\n",
      "Commands:\n",
      "  attach      Attach local standard input, output, and error streams to a running container\n",
      "  commit      Create a new image from a container's changes\n",
      "  cp          Copy files/folders between a container and the local filesystem\n",
      "  create      Create a new container\n",
      "  diff        Inspect changes to files or directories on a container's filesystem\n",
      "  events      Get real time events from the server\n",
      "  export      Export a container's filesystem as a tar archive\n",
      "  history     Show the history of an image\n",
      "  import      Import the contents from a tarball to create a filesystem image\n",
      "  inspect     Return low-level information on Docker objects\n",
      "  kill        Kill one or more running containers\n",
      "  load        Load an image from a tar archive or STDIN\n",
      "  logs        Fetch the logs of a container\n",
      "  pause       Pause all processes within one or more containers\n",
      "  port        List port mappings or a specific mapping for the container\n",
      "  rename      Rename a container\n",
      "  restart     Restart one or more containers\n",
      "  rm          Remove one or more containers\n",
      "  rmi         Remove one or more images\n",
      "  save        Save one or more images to a tar archive (streamed to STDOUT by default)\n",
      "  start       Start one or more stopped containers\n",
      "  stats       Display a live stream of container(s) resource usage statistics\n",
      "  stop        Stop one or more running containers\n",
      "  tag         Create a tag TARGET_IMAGE that refers to SOURCE_IMAGE\n",
      "  top         Display the running processes of a container\n",
      "  unpause     Unpause all processes within one or more containers\n",
      "  update      Update configuration of one or more containers\n",
      "  wait        Block until one or more containers stop, then print their exit codes\n",
      "\n",
      "Global Options:\n",
      "      --config string      Location of client config files (default\n",
      "                           \"/home/rocky/.docker\")\n",
      "  -c, --context string     Name of the context to use to connect to the\n",
      "                           daemon (overrides DOCKER_HOST env var and\n",
      "                           default context set with \"docker context use\")\n",
      "  -D, --debug              Enable debug mode\n",
      "  -H, --host list          Daemon socket to connect to\n",
      "  -l, --log-level string   Set the logging level (\"debug\", \"info\",\n",
      "                           \"warn\", \"error\", \"fatal\") (default \"info\")\n",
      "      --tls                Use TLS; implied by --tlsverify\n",
      "      --tlscacert string   Trust certs signed only by this CA (default\n",
      "                           \"/home/rocky/.docker/ca.pem\")\n",
      "      --tlscert string     Path to TLS certificate file (default\n",
      "                           \"/home/rocky/.docker/cert.pem\")\n",
      "      --tlskey string      Path to TLS key file (default\n",
      "                           \"/home/rocky/.docker/key.pem\")\n",
      "      --tlsverify          Use TLS and verify the remote\n",
      "  -v, --version            Print version information and quit\n",
      "\n",
      "Run 'docker COMMAND --help' for more information on a command.\n",
      "\n",
      "For more help on how to use Docker, head to https://docs.docker.com/go/guides/\n",
      "\u001b[31m Created symlink /etc/systemd/system/multi-user.target.wants/docker.service → /usr/lib/systemd/system/docker.service.\n",
      " \u001b[0m\n",
      " Verify installtion... on Node2\n",
      "\n",
      "Usage:  docker [OPTIONS] COMMAND\n",
      "\n",
      "A self-sufficient runtime for containers\n",
      "\n",
      "Common Commands:\n",
      "  run         Create and run a new container from an image\n",
      "  exec        Execute a command in a running container\n",
      "  ps          List containers\n",
      "  build       Build an image from a Dockerfile\n",
      "  pull        Download an image from a registry\n",
      "  push        Upload an image to a registry\n",
      "  images      List images\n",
      "  login       Log in to a registry\n",
      "  logout      Log out from a registry\n",
      "  search      Search Docker Hub for images\n",
      "  version     Show the Docker version information\n",
      "  info        Display system-wide information\n",
      "\n",
      "Management Commands:\n",
      "  builder     Manage builds\n",
      "  buildx*     Docker Buildx (Docker Inc., v0.10.4)\n",
      "  checkpoint  Manage checkpoints\n",
      "  compose*    Docker Compose (Docker Inc., v2.17.2)\n",
      "  container   Manage containers\n",
      "  context     Manage contexts\n",
      "  image       Manage images\n",
      "  manifest    Manage Docker image manifests and manifest lists\n",
      "  network     Manage networks\n",
      "  plugin      Manage plugins\n",
      "  system      Manage Docker\n",
      "  trust       Manage trust on Docker images\n",
      "  volume      Manage volumes\n",
      "\n",
      "Swarm Commands:\n",
      "  swarm       Manage Swarm\n",
      "\n",
      "Commands:\n",
      "  attach      Attach local standard input, output, and error streams to a running container\n",
      "  commit      Create a new image from a container's changes\n",
      "  cp          Copy files/folders between a container and the local filesystem\n",
      "  create      Create a new container\n",
      "  diff        Inspect changes to files or directories on a container's filesystem\n",
      "  events      Get real time events from the server\n",
      "  export      Export a container's filesystem as a tar archive\n",
      "  history     Show the history of an image\n",
      "  import      Import the contents from a tarball to create a filesystem image\n",
      "  inspect     Return low-level information on Docker objects\n",
      "  kill        Kill one or more running containers\n",
      "  load        Load an image from a tar archive or STDIN\n",
      "  logs        Fetch the logs of a container\n",
      "  pause       Pause all processes within one or more containers\n",
      "  port        List port mappings or a specific mapping for the container\n",
      "  rename      Rename a container\n",
      "  restart     Restart one or more containers\n",
      "  rm          Remove one or more containers\n",
      "  rmi         Remove one or more images\n",
      "  save        Save one or more images to a tar archive (streamed to STDOUT by default)\n",
      "  start       Start one or more stopped containers\n",
      "  stats       Display a live stream of container(s) resource usage statistics\n",
      "  stop        Stop one or more running containers\n",
      "  tag         Create a tag TARGET_IMAGE that refers to SOURCE_IMAGE\n",
      "  top         Display the running processes of a container\n",
      "  unpause     Unpause all processes within one or more containers\n",
      "  update      Update configuration of one or more containers\n",
      "  wait        Block until one or more containers stop, then print their exit codes\n",
      "\n",
      "Global Options:\n",
      "      --config string      Location of client config files (default\n",
      "                           \"/home/rocky/.docker\")\n",
      "  -c, --context string     Name of the context to use to connect to the\n",
      "                           daemon (overrides DOCKER_HOST env var and\n",
      "                           default context set with \"docker context use\")\n",
      "  -D, --debug              Enable debug mode\n",
      "  -H, --host list          Daemon socket(s) to connect to\n",
      "  -l, --log-level string   Set the logging level (\"debug\", \"info\",\n",
      "                           \"warn\", \"error\", \"fatal\") (default \"info\")\n",
      "      --tls                Use TLS; implied by --tlsverify\n",
      "      --tlscacert string   Trust certs signed only by this CA (default\n",
      "                           \"/home/rocky/.docker/ca.pem\")\n",
      "      --tlscert string     Path to TLS certificate file (default\n",
      "                           \"/home/rocky/.docker/cert.pem\")\n",
      "      --tlskey string      Path to TLS key file (default\n",
      "                           \"/home/rocky/.docker/key.pem\")\n",
      "      --tlsverify          Use TLS and verify the remote\n",
      "  -v, --version            Print version information and quit\n",
      "\n",
      "Run 'docker COMMAND --help' for more information on a command.\n",
      "\n",
      "For more help on how to use Docker, head to https://docs.docker.com/go/guides/\n",
      "\u001b[31m Created symlink /etc/systemd/system/multi-user.target.wants/docker.service → /usr/lib/systemd/system/docker.service.\n",
      " \u001b[0m\n",
      " Verify installtion... on Node3\n",
      "\n",
      "Usage:  docker [OPTIONS] COMMAND\n",
      "\n",
      "A self-sufficient runtime for containers\n",
      "\n",
      "Common Commands:\n",
      "  run         Create and run a new container from an image\n",
      "  exec        Execute a command in a running container\n",
      "  ps          List containers\n",
      "  build       Build an image from a Dockerfile\n",
      "  pull        Download an image from a registry\n",
      "  push        Upload an image to a registry\n",
      "  images      List images\n",
      "  login       Log in to a registry\n",
      "  logout      Log out from a registry\n",
      "  search      Search Docker Hub for images\n",
      "  version     Show the Docker version information\n",
      "  info        Display system-wide information\n",
      "\n",
      "Management Commands:\n",
      "  builder     Manage builds\n",
      "  buildx*     Docker Buildx (Docker Inc., v0.10.4)\n",
      "  checkpoint  Manage checkpoints\n",
      "  compose*    Docker Compose (Docker Inc., v2.17.2)\n",
      "  container   Manage containers\n",
      "  context     Manage contexts\n",
      "  image       Manage images\n",
      "  manifest    Manage Docker image manifests and manifest lists\n",
      "  network     Manage networks\n",
      "  plugin      Manage plugins\n",
      "  system      Manage Docker\n",
      "  trust       Manage trust on Docker images\n",
      "  volume      Manage volumes\n",
      "\n",
      "Swarm Commands:\n",
      "  swarm       Manage Swarm\n",
      "\n",
      "Commands:\n",
      "  attach      Attach local standard input, output, and error streams to a running container\n",
      "  commit      Create a new image from a container's changes\n",
      "  cp          Copy files/folders between a container and the local filesystem\n",
      "  create      Create a new container\n",
      "  diff        Inspect changes to files or directories on a container's filesystem\n",
      "  events      Get real time events from the server\n",
      "  export      Export a container's filesystem as a tar archive\n",
      "  history     Show the history of an image\n",
      "  import      Import the contents from a tarball to create a filesystem image\n",
      "  inspect     Return low-level information on Docker objects\n",
      "  kill        Kill one or more running containers\n",
      "  load        Load an image from a tar archive or STDIN\n",
      "  logs        Fetch the logs of a container\n",
      "  pause       Pause all processes within one or more containers\n",
      "  port        List port mappings or a specific mapping for the container\n",
      "  rename      Rename a container\n",
      "  restart     Restart one or more containers\n",
      "  rm          Remove one or more containers\n",
      "  rmi         Remove one or more images\n",
      "  save        Save one or more images to a tar archive (streamed to STDOUT by default)\n",
      "  start       Start one or more stopped containers\n",
      "  stats       Display a live stream of container(s) resource usage statistics\n",
      "  stop        Stop one or more running containers\n",
      "  tag         Create a tag TARGET_IMAGE that refers to SOURCE_IMAGE\n",
      "  top         Display the running processes of a container\n",
      "  unpause     Unpause all processes within one or more containers\n",
      "  update      Update configuration of one or more containers\n",
      "  wait        Block until one or more containers stop, then print their exit codes\n",
      "\n",
      "Global Options:\n",
      "      --config string      Location of client config files (default\n",
      "                           \"/home/rocky/.docker\")\n",
      "  -c, --context string     Name of the context to use to connect to the\n",
      "                           daemon (overrides DOCKER_HOST env var and\n",
      "                           default context set with \"docker context use\")\n",
      "  -D, --debug              Enable debug mode\n",
      "  -H, --host list          Daemon socket(s) to connect to\n",
      "  -l, --log-level string   Set the logging level (\"debug\", \"info\",\n",
      "                           \"warn\", \"error\", \"fatal\") (default \"info\")\n",
      "      --tls                Use TLS; implied by --tlsverify\n",
      "      --tlscacert string   Trust certs signed only by this CA (default\n",
      "                           \"/home/rocky/.docker/ca.pem\")\n",
      "      --tlscert string     Path to TLS certificate file (default\n",
      "                           \"/home/rocky/.docker/cert.pem\")\n",
      "      --tlskey string      Path to TLS key file (default\n",
      "                           \"/home/rocky/.docker/key.pem\")\n",
      "      --tlsverify          Use TLS and verify the remote\n",
      "  -v, --version            Print version information and quit\n",
      "\n",
      "Run 'docker COMMAND --help' for more information on a command.\n",
      "\n",
      "For more help on how to use Docker, head to https://docs.docker.com/go/guides/\n"
     ]
    }
   ],
   "source": [
    "for node in nodes:\n",
    "    node.execute(\"sudo systemctl start docker\")\n",
    "    node.execute(\"sudo systemctl enable docker\")\n",
    "    node.execute(\"sudo usermod -aG docker rocky\")\n",
    "    \n",
    "    print(f\"\\n Verify installtion... on {node.get_name()}\")\n",
    "    node.execute(\"docker --help\")"
   ]
  },
  {
   "cell_type": "markdown",
   "id": "d36a44d5-0a68-409f-90a5-1dd049c8b426",
   "metadata": {},
   "source": [
    "# (Optional) Extend the slice (Add 14 days)"
   ]
  },
  {
   "cell_type": "code",
   "execution_count": 10,
   "id": "ded7d171-c076-48e9-bf8b-24355c110cce",
   "metadata": {},
   "outputs": [
    {
     "name": "stdout",
     "output_type": "stream",
     "text": [
      "Lease End         : 2023-10-22 07:08:18 +0000\n"
     ]
    }
   ],
   "source": [
    "try:\n",
    "    slice = fablib.get_slice(name=slice_name)\n",
    "    print(f\"Lease End         : {slice.get_lease_end()}\")\n",
    "       \n",
    "except Exception as e:\n",
    "    print(f\"Exception: {e}\")"
   ]
  },
  {
   "cell_type": "code",
   "execution_count": 11,
   "id": "affe5a4a-a707-4f18-8dea-0f844fd1b373",
   "metadata": {},
   "outputs": [
    {
     "name": "stdout",
     "output_type": "stream",
     "text": [
      "New lease end date : 2023-10-22 07:08:18 +0000\n"
     ]
    }
   ],
   "source": [
    "import datetime\n",
    "\n",
    "#Extend slice\n",
    "end_date = (datetime.datetime.now().astimezone() + datetime.timedelta(days=14)).strftime(\"%Y-%m-%d %H:%M:%S %z\")\n",
    "\n",
    "try:\n",
    "    slice = fablib.get_slice(name=slice_name)\n",
    "    slice.renew(end_date)\n",
    "    print(f\"New lease end date : {slice.get_lease_end()}\")\n",
    "    \n",
    "except Exception as e:\n",
    "    print(f\"Exception: {e}\")"
   ]
  },
  {
   "cell_type": "markdown",
   "id": "2c80ef64-02ff-47b9-b706-50328229a714",
   "metadata": {},
   "source": [
    "# Delete the Slice"
   ]
  },
  {
   "cell_type": "code",
   "execution_count": null,
   "id": "46b1ba42-0fee-42f8-bbbb-85f5f34a859b",
   "metadata": {},
   "outputs": [],
   "source": [
    "# try:\n",
    "#     slice = fablib.get_slice(name=slice_name)\n",
    "#     slice.delete()\n",
    "# except Exception as e:\n",
    "#     print(f\"Exception: {e}\")"
   ]
  },
  {
   "cell_type": "markdown",
   "id": "ad29c50c-2ab3-4579-80ab-258059e91039",
   "metadata": {},
   "source": [
    "# Run OWL (One-Way Latency Measurements) \n",
    "\n",
    "Script for running OWL on one or more nodes in a slice. Output for each measurement is saved as a pcap file on the destination node. \n",
    "Current implementation on IPv4 experimenter interfaces only. Assumes each node has only 1 experimental interface.\n",
    "\n",
    "(Tested on 2023/08/18)"
   ]
  },
  {
   "cell_type": "markdown",
   "id": "65c63b8f-85e5-4386-a8e5-0651e52f47b0",
   "metadata": {},
   "source": [
    "# First things first"
   ]
  },
  {
   "cell_type": "code",
   "execution_count": 1,
   "id": "2a0a65ab-435e-466a-b010-5971f78d6fd1",
   "metadata": {},
   "outputs": [],
   "source": [
    "from fabrictestbed_extensions.fablib.fablib import fablib\n",
    "import json"
   ]
  },
  {
   "cell_type": "code",
   "execution_count": 2,
   "id": "651ee292-ba68-43a9-95ff-e218e90bad04",
   "metadata": {},
   "outputs": [
    {
     "name": "stdout",
     "output_type": "stream",
     "text": [
      "-----------  ------------------------------------\n",
      "Slice Name   PTP_slice\n",
      "Slice ID     064372be-d3f9-4a66-80a3-ee3672725f8e\n",
      "Slice State  StableOK\n",
      "Lease End    2023-11-04 07:19:47 +0000\n",
      "-----------  ------------------------------------\n"
     ]
    }
   ],
   "source": [
    "slice_name = \"PTP_slice\"\n",
    "\n",
    "try:\n",
    "    slice = fablib.get_slice(name=slice_name)\n",
    "except Exception as e:\n",
    "    print(f\"Fail: {e}\")\n",
    "print (slice)"
   ]
  },
  {
   "cell_type": "code",
   "execution_count": 3,
   "id": "ceb6ad8a-0a28-425d-83af-94251488e9ad",
   "metadata": {},
   "outputs": [],
   "source": [
    "from mflib import owl\n",
    "\n",
    "# for debugging only\n",
    "#import owl_local as owl"
   ]
  },
  {
   "cell_type": "code",
   "execution_count": 4,
   "id": "8e53d9f1-725e-4100-acfe-feb6724ce66a",
   "metadata": {},
   "outputs": [],
   "source": [
    "node1_name = 'Node1'\n",
    "node2_name = 'Node2'\n",
    "node3_name = 'Node3'\n",
    "\n",
    "try:    \n",
    "    node1 = slice.get_node(name=node1_name)\n",
    "    node2 = slice.get_node(name=node2_name)\n",
    "    node3 = slice.get_node(name=node3_name)\n",
    "    nodes = slice.get_nodes()\n",
    "except Exception as e:\n",
    "    print(f\"Fail: {e}\")   "
   ]
  },
  {
   "cell_type": "markdown",
   "id": "23576789-1f08-4cf6-ae99-fec37db23edc",
   "metadata": {},
   "source": [
    "## Look up IPs of nodes and decide which IP address to use \n",
    "\n",
    "Checking experiment IP addresses by filtering out meas_network addresses. Asssumes one experimenter interface per node."
   ]
  },
  {
   "cell_type": "code",
   "execution_count": 5,
   "id": "ecf03299-b55f-42b1-90d1-465b385b735c",
   "metadata": {},
   "outputs": [
    {
     "name": "stdout",
     "output_type": "stream",
     "text": [
      "{'Node1': '10.129.129.2', 'Node2': '10.143.3.2', 'Node3': '10.136.5.2'}\n"
     ]
    }
   ],
   "source": [
    "node_ip_list = owl.nodes_ip_addrs(slice)\n",
    "print(node_ip_list)"
   ]
  },
  {
   "cell_type": "markdown",
   "id": "2a907f44-a48d-46c0-8f1b-aa6f8ec8971b",
   "metadata": {},
   "source": [
    "## Check OWL prerequisites on all nodes in the slice\n",
    "\n",
    "Runs the following test and prints output on each node:\n",
    "\n",
    "+ `git clone`\n",
    "+ `ps -ef | grep phc2sys`\n",
    "+ `docker --help`"
   ]
  },
  {
   "cell_type": "code",
   "execution_count": 6,
   "id": "3aae80ec-6212-4632-b0dd-4d7fd56417bc",
   "metadata": {},
   "outputs": [
    {
     "name": "stdout",
     "output_type": "stream",
     "text": [
      "\n",
      "***** On Node1...\n",
      "\n",
      "***** Is github reachable?\n",
      "\u001b[31m Cloning into 'teaching-materials'...\n",
      " \u001b[0mtotal 12\n",
      "drwxrwxr-x. 6 rocky rocky 4096 Oct 21 07:14 jupyter-examples\n",
      "drwxrwxr-x. 2 rocky rocky 4096 Oct 21 07:26 owl-output\n",
      "drwxrwxr-x. 5 rocky rocky 4096 Oct 21 17:52 teaching-materials\n",
      "\n",
      "***** Is PTP is enabled?\n",
      "root       17036       1  0 07:18 ?        00:00:02 /usr/sbin/phc2sys -u 8 -E linreg -O +0 -s /dev/ptp1 -c enp7s0\n",
      "root       17610       1  0 07:18 ?        00:00:00 /usr/sbin/phc2sys -u 8 -E linreg -O +0 -s /dev/ptp1 -c CLOCK_REALTIME\n",
      "rocky      28596   28595  0 17:52 ?        00:00:00 bash -c ps -ef | grep phc2sys\n",
      "rocky      28616   28596  0 17:52 ?        00:00:00 grep phc2sys\n",
      "\n",
      "*****Is Docker installed?\n",
      "\n",
      "Usage:  docker [OPTIONS] COMMAND\n",
      "\n",
      "A self-sufficient runtime for containers\n",
      "\n",
      "Common Commands:\n",
      "  run         Create and run a new container from an image\n",
      "  exec        Execute a command in a running container\n",
      "  ps          List containers\n",
      "  build       Build an image from a Dockerfile\n",
      "\n",
      "***** On Node2...\n",
      "\n",
      "***** Is github reachable?\n",
      "\u001b[31m Cloning into 'teaching-materials'...\n",
      " \u001b[0mtotal 12\n",
      "drwxrwxr-x. 6 rocky rocky 4096 Oct 21 07:15 jupyter-examples\n",
      "drwxrwxr-x. 2 rocky rocky 4096 Oct 21 07:25 owl-output\n",
      "drwxrwxr-x. 5 rocky rocky 4096 Oct 21 17:52 teaching-materials\n",
      "\n",
      "***** Is PTP is enabled?\n",
      "root       27221       1  0 07:18 ?        00:00:02 /usr/sbin/phc2sys -u 8 -E linreg -O +0 -s /dev/ptp1 -c enp7s0\n",
      "root       27272       1  0 07:18 ?        00:00:01 /usr/sbin/phc2sys -u 8 -E linreg -O +0 -s /dev/ptp1 -c CLOCK_REALTIME\n",
      "rocky      30111   30110  0 17:52 ?        00:00:00 bash -c ps -ef | grep phc2sys\n",
      "rocky      30131   30111  0 17:52 ?        00:00:00 grep phc2sys\n",
      "\n",
      "*****Is Docker installed?\n",
      "\n",
      "Usage:  docker [OPTIONS] COMMAND\n",
      "\n",
      "A self-sufficient runtime for containers\n",
      "\n",
      "Common Commands:\n",
      "  run         Create and run a new container from an image\n",
      "  exec        Execute a command in a running container\n",
      "  ps          List containers\n",
      "  build       Build an image from a Dockerfile\n",
      "\n",
      "***** On Node3...\n",
      "\n",
      "***** Is github reachable?\n",
      "\u001b[31m Cloning into 'teaching-materials'...\n",
      " \u001b[0mtotal 12\n",
      "drwxrwxr-x. 6 rocky rocky 4096 Oct 21 07:16 jupyter-examples\n",
      "drwxrwxr-x. 2 rocky rocky 4096 Oct 21 07:25 owl-output\n",
      "drwxrwxr-x. 5 rocky rocky 4096 Oct 21 17:52 teaching-materials\n",
      "\n",
      "***** Is PTP is enabled?\n",
      "root       27220       1  0 07:19 ?        00:00:02 /usr/sbin/phc2sys -u 8 -E linreg -O +0 -s /dev/ptp1 -c enp6s0\n",
      "root       27271       1  0 07:19 ?        00:00:00 /usr/sbin/phc2sys -u 8 -E linreg -O +0 -s /dev/ptp1 -c CLOCK_REALTIME\n",
      "rocky      30048   30047  0 17:52 ?        00:00:00 bash -c ps -ef | grep phc2sys\n",
      "rocky      30068   30048  0 17:52 ?        00:00:00 grep phc2sys\n",
      "\n",
      "*****Is Docker installed?\n",
      "\n",
      "Usage:  docker [OPTIONS] COMMAND\n",
      "\n",
      "A self-sufficient runtime for containers\n",
      "\n",
      "Common Commands:\n",
      "  run         Create and run a new container from an image\n",
      "  exec        Execute a command in a running container\n",
      "  ps          List containers\n",
      "  build       Build an image from a Dockerfile\n"
     ]
    }
   ],
   "source": [
    "owl.check_owl_prerequisites(slice)"
   ]
  },
  {
   "cell_type": "markdown",
   "id": "ecf647c1-5aa4-47ea-b2cc-40c8913c1eff",
   "metadata": {
    "tags": []
   },
   "source": [
    "## Pull OWL image from DockerHub"
   ]
  },
  {
   "cell_type": "code",
   "execution_count": 9,
   "id": "bcb0a09a-4ed2-4323-831f-faad0b11b483",
   "metadata": {},
   "outputs": [
    {
     "name": "stdout",
     "output_type": "stream",
     "text": [
      "0.1.4: Pulling from fabrictestbed/owl\n",
      "Digest: sha256:7b50ef5ed9eb6c2fa293d85b842251370d12cdb759a18e52bbcff72905bae4f7\n",
      "Status: Image is up to date for fabrictestbed/owl:0.1.4\n",
      "docker.io/fabrictestbed/owl:0.1.4\n",
      "0.1.4: Pulling from fabrictestbed/owl\n",
      "Digest: sha256:7b50ef5ed9eb6c2fa293d85b842251370d12cdb759a18e52bbcff72905bae4f7\n",
      "Status: Image is up to date for fabrictestbed/owl:0.1.4\n",
      "docker.io/fabrictestbed/owl:0.1.4\n",
      "0.1.4: Pulling from fabrictestbed/owl\n",
      "Digest: sha256:7b50ef5ed9eb6c2fa293d85b842251370d12cdb759a18e52bbcff72905bae4f7\n",
      "Status: Image is up to date for fabrictestbed/owl:0.1.4\n",
      "docker.io/fabrictestbed/owl:0.1.4\n"
     ]
    }
   ],
   "source": [
    "image_name=\"fabrictestbed/owl:0.1.4\"\n",
    "\n",
    "for node in nodes:\n",
    "    node.execute(f\"sudo docker pull {image_name}\") "
   ]
  },
  {
   "cell_type": "markdown",
   "id": "8777d349-1bec-4779-bd3d-68968a0244f5",
   "metadata": {},
   "source": [
    "# Run the experiment\n",
    "\n",
    "There are 3 ways to use OWL\n",
    "\n",
    "1. Specify each link with sender-capturer pair: this should be easiest method for most users.\n",
    "2. Start each sender and capturer manually: this is useful when you want to have more precise control\n",
    "3. Start on all links: this starts OWL on every pair of nodes in the slice (excluding meas-node if there is one)\n",
    "\n",
    "\n",
    "**Note: By default, all the previously saved pcap files will be deleted when a node starts a new OWL capturer session. If this behavior is not desired, set `delete_previous_output` to `False`.**"
   ]
  },
  {
   "cell_type": "markdown",
   "id": "69fa1e87-904c-45a7-9338-cf66d963e05d",
   "metadata": {
    "tags": []
   },
   "source": [
    "## Method 1: Specify links by source and destination nodes\n",
    "This examples runs OWL on the following links:\n",
    "\n",
    "+ Node1 --> Node2\n",
    "+ Node2 --> Node3\n",
    "+ Node3 --> Node2\n",
    "\n",
    "For each link, sender and capturer containers will start. If one node is a destination for more than 1 sender, only 1 capturer container instance will be created."
   ]
  },
  {
   "cell_type": "code",
   "execution_count": 14,
   "id": "d5544cfb-33ca-4ff4-953c-2c109574058a",
   "metadata": {
    "tags": []
   },
   "outputs": [
    {
     "name": "stdout",
     "output_type": "stream",
     "text": [
      "Staring sender on Node1\n",
      "a861868e1cdecc56664e542f0b0d57c5b66f7f04b07d96ad3b1547070f8ce4b4\n",
      "Staring capturer on Node2\n",
      "51778ae4cb5072717444676fcca34a531db4774db84cff9982b47029094adad2\n"
     ]
    }
   ],
   "source": [
    "owl.start_owl(slice, src_node=slice.get_node(name='Node1'), dst_node=slice.get_node(name='Node2'), img_name=image_name, probe_freq=1, no_ptp=False, outfile=None, \n",
    "              duration = 120, delete_previous_output=True)"
   ]
  },
  {
   "cell_type": "code",
   "execution_count": 15,
   "id": "122e4255-0c87-4ab2-99b2-50db8a3e61cd",
   "metadata": {},
   "outputs": [
    {
     "name": "stdout",
     "output_type": "stream",
     "text": [
      "Staring sender on Node2\n",
      "8b50d9b9a90dc803bf0d752ee2dd62ecb859ed9b1628e428cb8c5265e366cc2c\n",
      "Staring capturer on Node3\n",
      "6d37b68091bfaa515e1bf20b41ab100838ee2cb079ed11ac6ee493d05b0125ca\n"
     ]
    }
   ],
   "source": [
    "owl.start_owl(slice, src_node=slice.get_node(name='Node2'), dst_node=slice.get_node(name='Node3'), img_name=image_name, probe_freq=1, no_ptp=False, outfile=None, \n",
    "              duration = 600, delete_previous_output=True)"
   ]
  },
  {
   "cell_type": "code",
   "execution_count": 16,
   "id": "1d4fb4b6-64a1-4d23-9281-4e49226bbd03",
   "metadata": {
    "tags": []
   },
   "outputs": [
    {
     "name": "stdout",
     "output_type": "stream",
     "text": [
      "Staring sender on Node3\n",
      "4a3bb71b0aece1e220d563d3e95a4da995eb572f8db1edfa271085556a12eed3\n",
      "Staring capturer on Node2\n",
      "owl-sender_10.143.3.2_10.136.5.2\n",
      "owl-capturer_10.143.3.2\n",
      "capturer already running on Node2\n"
     ]
    }
   ],
   "source": [
    "owl.start_owl(slice, src_node=slice.get_node(name='Node3'), dst_node=slice.get_node(name='Node2'), img_name=image_name, probe_freq=1, no_ptp=False, outfile=None, \n",
    "              duration = 600, delete_previous_output=True)"
   ]
  },
  {
   "cell_type": "markdown",
   "id": "cb936615-3208-4d61-9afc-b18ce61e1369",
   "metadata": {},
   "source": [
    "### Check if they are running"
   ]
  },
  {
   "cell_type": "code",
   "execution_count": 17,
   "id": "206003ef-4f7a-4843-94af-1ab04a8b27e0",
   "metadata": {
    "tags": []
   },
   "outputs": [
    {
     "name": "stdout",
     "output_type": "stream",
     "text": [
      "Node1\n",
      "CONTAINER ID   IMAGE                     COMMAND                  CREATED          STATUS          PORTS     NAMES\n",
      "a861868e1cde   fabrictestbed/owl:0.1.4   \"python3 sock_ops/ud…\"   57 seconds ago   Up 57 seconds             owl-sender_10.129.129.2_10.143.3.2\n",
      "Node2\n",
      "CONTAINER ID   IMAGE                     COMMAND                  CREATED          STATUS          PORTS     NAMES\n",
      "8b50d9b9a90d   fabrictestbed/owl:0.1.4   \"python3 sock_ops/ud…\"   39 seconds ago   Up 39 seconds             owl-sender_10.143.3.2_10.136.5.2\n",
      "51778ae4cb50   fabrictestbed/owl:0.1.4   \"python3 sock_ops/ud…\"   53 seconds ago   Up 52 seconds             owl-capturer_10.143.3.2\n",
      "Node3\n",
      "CONTAINER ID   IMAGE                     COMMAND                  CREATED          STATUS          PORTS     NAMES\n",
      "4a3bb71b0aec   fabrictestbed/owl:0.1.4   \"python3 sock_ops/ud…\"   34 seconds ago   Up 33 seconds             owl-sender_10.136.5.2_10.143.3.2\n",
      "6d37b68091bf   fabrictestbed/owl:0.1.4   \"python3 sock_ops/ud…\"   37 seconds ago   Up 35 seconds             owl-capturer_10.136.5.2\n"
     ]
    }
   ],
   "source": [
    "owl.check_owl_all(slice)"
   ]
  },
  {
   "cell_type": "markdown",
   "id": "5588c11d-7ca0-48e6-8e0c-f3e4c68c0cf5",
   "metadata": {
    "tags": []
   },
   "source": [
    "### Stop all OWL containers"
   ]
  },
  {
   "cell_type": "code",
   "execution_count": 18,
   "id": "4ee21e20-f233-44e3-84f7-adf89addafc0",
   "metadata": {
    "tags": []
   },
   "outputs": [
    {
     "name": "stdout",
     "output_type": "stream",
     "text": [
      "Node1\n",
      "a861868e1cde\n",
      "Node2\n",
      "8b50d9b9a90d\n",
      "51778ae4cb50\n",
      "Node3\n",
      "4a3bb71b0aec\n",
      "6d37b68091bf\n"
     ]
    }
   ],
   "source": [
    "owl.stop_owl_all(slice)"
   ]
  },
  {
   "cell_type": "markdown",
   "id": "9d02e37b-d508-4ebe-a841-7fbcfd0de3e7",
   "metadata": {},
   "source": [
    "### Verify"
   ]
  },
  {
   "cell_type": "code",
   "execution_count": 19,
   "id": "d5d9caa0-7af1-45f9-8491-d73538ff403b",
   "metadata": {},
   "outputs": [
    {
     "name": "stdout",
     "output_type": "stream",
     "text": [
      "Node1\n",
      "CONTAINER ID   IMAGE     COMMAND   CREATED   STATUS    PORTS     NAMES\n",
      "Node2\n",
      "CONTAINER ID   IMAGE     COMMAND   CREATED   STATUS    PORTS     NAMES\n",
      "Node3\n",
      "CONTAINER ID   IMAGE     COMMAND   CREATED   STATUS    PORTS     NAMES\n"
     ]
    }
   ],
   "source": [
    "owl.check_owl_all(slice)"
   ]
  },
  {
   "cell_type": "markdown",
   "id": "2b4520f8-d974-4a3f-bb5b-6d4d0ca16867",
   "metadata": {
    "jp-MarkdownHeadingCollapsed": true,
    "tags": []
   },
   "source": [
    "## Method 2: start each sender, caputrer separately\n",
    "\n",
    "If user desires more granular control, sender and capturer can be started/stopped independently.\n"
   ]
  },
  {
   "cell_type": "code",
   "execution_count": null,
   "id": "84ce864a-e001-4d5d-8477-9c7b6522a5d0",
   "metadata": {},
   "outputs": [],
   "source": [
    "owl.start_owl_sender(slice, src_node=slice.get_node(name='Node1'), dst_node=slice.get_node(name='Node2'), img_name=image_name, duration=120)"
   ]
  },
  {
   "cell_type": "code",
   "execution_count": null,
   "id": "73c65e73-264d-489c-b3b4-18ba17e35e3d",
   "metadata": {},
   "outputs": [],
   "source": [
    "owl.start_owl_sender(slice, src_node=slice.get_node(name='Node1'), dst_node=slice.get_node(name='Node3'), img_name=image_name, duration=120)"
   ]
  },
  {
   "cell_type": "code",
   "execution_count": null,
   "id": "73d1f820-4a32-493b-807d-d5ad99bc032e",
   "metadata": {},
   "outputs": [],
   "source": [
    "owl.start_owl_capturer(slice,  dst_node=slice.get_node(name='Node2'), img_name=image_name, duration=120)"
   ]
  },
  {
   "cell_type": "code",
   "execution_count": null,
   "id": "8679c747-a597-439a-b8f2-a36f1be1e88b",
   "metadata": {},
   "outputs": [],
   "source": [
    "owl.start_owl_sender(slice, src_node=slice.get_node(name='Node3'), dst_node=slice.get_node(name='Node2'), img_name=image_name, duration=120)"
   ]
  },
  {
   "cell_type": "markdown",
   "id": "fd661cd5-43a1-4931-a01c-85e9c4f5545a",
   "metadata": {},
   "source": [
    "### Check how the containers are running"
   ]
  },
  {
   "cell_type": "code",
   "execution_count": null,
   "id": "250d2d69-3cea-49d4-a9ff-5326696e2efa",
   "metadata": {},
   "outputs": [],
   "source": [
    "owl.check_owl_all(slice)"
   ]
  },
  {
   "cell_type": "markdown",
   "id": "248b960b-90df-4562-84bf-46d2664ec780",
   "metadata": {},
   "source": [
    "### Stop OWL containers on each node\n",
    "\n",
    "The method finds all containers with the prefix `owl-sender_` in their names, stops and removes them."
   ]
  },
  {
   "cell_type": "code",
   "execution_count": null,
   "id": "cfdfca1e-000d-4bc8-9be0-ba44b5bca5a0",
   "metadata": {},
   "outputs": [],
   "source": [
    "owl.stop_owl_sender(slice, src_node=slice.get_node(name='Node1'), dst_node=slice.get_node(name='Node2'))"
   ]
  },
  {
   "cell_type": "code",
   "execution_count": null,
   "id": "5ce4f703-88ec-47c0-96cd-38be8b1f31ce",
   "metadata": {},
   "outputs": [],
   "source": [
    "owl.stop_owl_sender(slice, src_node=slice.get_node(name='Node1'), dst_node=slice.get_node(name='Node3'))"
   ]
  },
  {
   "cell_type": "code",
   "execution_count": null,
   "id": "bc4a89a9-e137-471b-8c59-19631b134bf0",
   "metadata": {},
   "outputs": [],
   "source": [
    "owl.stop_owl_capturer(slice,  dst_node=slice.get_node(name='Node2'))"
   ]
  },
  {
   "cell_type": "code",
   "execution_count": null,
   "id": "d57e5b2c-f28f-44a8-8fdf-52a6d3c665ff",
   "metadata": {},
   "outputs": [],
   "source": [
    "owl.stop_owl_sender(slice, src_node=slice.get_node(name='Node3'), dst_node=slice.get_node(name='Node2'))"
   ]
  },
  {
   "cell_type": "markdown",
   "id": "b7940f43-4f15-4f94-bf4e-7c05b05470b3",
   "metadata": {},
   "source": [
    "### Verify"
   ]
  },
  {
   "cell_type": "code",
   "execution_count": null,
   "id": "ed9bae91-969e-4ff4-b79d-58e7b20e0b2d",
   "metadata": {},
   "outputs": [],
   "source": [
    "owl.check_owl_all(slice)"
   ]
  },
  {
   "cell_type": "markdown",
   "id": "7ca29e52-be1c-4d7d-a5c0-a044c59867fc",
   "metadata": {},
   "source": [
    "## Method 3: start on all links\n",
    "\n",
    "If OWL measurements are desired on ALL possible links, call the following method. It will start sender and capturer containers on all nodes with each node sending probe packets to all the rest of the nodes in the slice."
   ]
  },
  {
   "cell_type": "code",
   "execution_count": 10,
   "id": "1ab92fab-57b4-4767-822c-910563e8f11c",
   "metadata": {},
   "outputs": [
    {
     "name": "stdout",
     "output_type": "stream",
     "text": [
      "Node1 --> Node2\n",
      "Staring sender\n",
      "5917d92c9bc18e5a11a5db957c6c753cd710fe0585b852993a3216a5bc371993\n",
      "Staring capturer\n",
      "11b4d7efd8b74a728d8e318cc1bd443c15c1352015c3e118cb261800cbba2a22\n",
      "Node1 --> Node3\n",
      "Staring sender\n",
      "734b32f6e915bf1daf1f194d6e582bb7dec86b9d9d08944080573897487a433b\n",
      "Staring capturer\n",
      "96a5475b155071ff518841500c75473f57f12148874285ab81a737319ce2be19\n",
      "Node2 --> Node1\n",
      "Staring sender\n",
      "3f1d1463af39756db1ca72bd93ceab412e09e5ed1f79815aa3238c7ac87700ab\n",
      "Staring capturer\n",
      "owl-sender_10.129.129.2_10.136.5.2\n",
      "owl-sender_10.129.129.2_10.143.3.2\n",
      "4f1ee652903f183ff49e9c51fa53d4d482600f7bfc4b10b6bd23de65a9e3838d\n",
      "Node2 --> Node3\n",
      "Staring sender\n",
      "4f14e3b42fa7edfd354459f56a10e4aa7f7951d5ba282c42c6d78ffc3e5f7379\n",
      "Staring capturer\n",
      "owl-capturer_10.136.5.2\n",
      "capturer already running on Node3\n",
      "Node3 --> Node1\n",
      "Staring sender\n",
      "d485c5b72f968ba29e6c9d9b3e63d468a3dd10fedc1287ffa315519c61bb62d8\n",
      "Staring capturer\n",
      "owl-capturer_10.129.129.2\n",
      "owl-sender_10.129.129.2_10.136.5.2\n",
      "owl-sender_10.129.129.2_10.143.3.2\n",
      "capturer already running on Node1\n",
      "Node3 --> Node2\n",
      "Staring sender\n",
      "fad0d4786304118d618416c79fef6616252026acf672210156f5b0cd5011dd04\n",
      "Staring capturer\n",
      "owl-sender_10.143.3.2_10.136.5.2\n",
      "owl-sender_10.143.3.2_10.129.129.2\n",
      "owl-capturer_10.143.3.2\n",
      "capturer already running on Node2\n"
     ]
    }
   ],
   "source": [
    "owl.start_owl_all(slice, img_name=image_name, probe_freq=1, outfile=None, duration=600, delete_previous=True)"
   ]
  },
  {
   "cell_type": "markdown",
   "id": "38a2e31b-24f0-4206-b1a9-1b18532654bc",
   "metadata": {},
   "source": [
    "### Check if they are running"
   ]
  },
  {
   "cell_type": "code",
   "execution_count": 11,
   "id": "20ac1d3a-9ed3-4bbe-87f0-7300c1aed5f3",
   "metadata": {},
   "outputs": [
    {
     "name": "stdout",
     "output_type": "stream",
     "text": [
      "Node1\n",
      "CONTAINER ID   IMAGE                     COMMAND                  CREATED          STATUS          PORTS     NAMES\n",
      "4f1ee652903f   fabrictestbed/owl:0.1.4   \"python3 sock_ops/ud…\"   11 seconds ago   Up 11 seconds             owl-capturer_10.129.129.2\n",
      "734b32f6e915   fabrictestbed/owl:0.1.4   \"python3 sock_ops/ud…\"   23 seconds ago   Up 23 seconds             owl-sender_10.129.129.2_10.136.5.2\n",
      "5917d92c9bc1   fabrictestbed/owl:0.1.4   \"python3 sock_ops/ud…\"   32 seconds ago   Up 32 seconds             owl-sender_10.129.129.2_10.143.3.2\n",
      "Node2\n",
      "CONTAINER ID   IMAGE                     COMMAND                  CREATED          STATUS          PORTS     NAMES\n",
      "4f14e3b42fa7   fabrictestbed/owl:0.1.4   \"python3 sock_ops/ud…\"   13 seconds ago   Up 13 seconds             owl-sender_10.143.3.2_10.136.5.2\n",
      "3f1d1463af39   fabrictestbed/owl:0.1.4   \"python3 sock_ops/ud…\"   21 seconds ago   Up 20 seconds             owl-sender_10.143.3.2_10.129.129.2\n",
      "11b4d7efd8b7   fabrictestbed/owl:0.1.4   \"python3 sock_ops/ud…\"   29 seconds ago   Up 28 seconds             owl-capturer_10.143.3.2\n",
      "Node3\n",
      "CONTAINER ID   IMAGE                     COMMAND                  CREATED          STATUS          PORTS     NAMES\n",
      "fad0d4786304   fabrictestbed/owl:0.1.4   \"python3 sock_ops/ud…\"   11 seconds ago   Up 10 seconds             owl-sender_10.136.5.2_10.143.3.2\n",
      "d485c5b72f96   fabrictestbed/owl:0.1.4   \"python3 sock_ops/ud…\"   14 seconds ago   Up 13 seconds             owl-sender_10.136.5.2_10.129.129.2\n",
      "96a5475b1550   fabrictestbed/owl:0.1.4   \"python3 sock_ops/ud…\"   26 seconds ago   Up 24 seconds             owl-capturer_10.136.5.2\n"
     ]
    }
   ],
   "source": [
    "owl.check_owl_all(slice)"
   ]
  },
  {
   "cell_type": "markdown",
   "id": "f647f02f-87a2-45a5-8897-dc645107564e",
   "metadata": {
    "tags": []
   },
   "source": [
    "### Stop all OWL containers"
   ]
  },
  {
   "cell_type": "code",
   "execution_count": 12,
   "id": "75ee9fe7-652e-434b-a9df-1dc9ff5f6f7b",
   "metadata": {
    "tags": []
   },
   "outputs": [
    {
     "name": "stdout",
     "output_type": "stream",
     "text": [
      "Node1\n",
      "4f1ee652903f\n",
      "Node2\n",
      "11b4d7efd8b7\n",
      "Node3\n",
      "96a5475b1550\n"
     ]
    }
   ],
   "source": [
    "owl.stop_owl_all(slice)"
   ]
  },
  {
   "cell_type": "markdown",
   "id": "4e8e6138-4121-4db5-85bc-b206b660bc46",
   "metadata": {},
   "source": [
    "### Verify"
   ]
  },
  {
   "cell_type": "code",
   "execution_count": 13,
   "id": "0e4bb8b6-28bb-4842-88ff-1b68d5c1177d",
   "metadata": {},
   "outputs": [
    {
     "name": "stdout",
     "output_type": "stream",
     "text": [
      "Node1\n",
      "CONTAINER ID   IMAGE     COMMAND   CREATED   STATUS    PORTS     NAMES\n",
      "Node2\n",
      "CONTAINER ID   IMAGE     COMMAND   CREATED   STATUS    PORTS     NAMES\n",
      "Node3\n",
      "CONTAINER ID   IMAGE     COMMAND   CREATED   STATUS    PORTS     NAMES\n"
     ]
    }
   ],
   "source": [
    "owl.check_owl_all(slice)"
   ]
  },
  {
   "cell_type": "markdown",
   "id": "b7daf8bb-0c19-421c-a3d6-91407f9097ee",
   "metadata": {},
   "source": [
    "# Get the Output files\n",
    "\n",
    "By default, all the pcap files are saved in `/home/rocky/owl-output` as `{dest_ip}.pcap` on the desination node.\n",
    "\n",
    "## Check the availability of output files"
   ]
  },
  {
   "cell_type": "code",
   "execution_count": 14,
   "id": "87f26684-5ad8-4a7d-a7df-0c918d9fe285",
   "metadata": {},
   "outputs": [
    {
     "name": "stdout",
     "output_type": "stream",
     "text": [
      "Node1\n",
      "total 104K\n",
      "-rw-r--r--. 1 root root 97K Oct 21 18:03 10.129.129.2.pcap\n",
      "Node2\n",
      "total 100K\n",
      "-rw-r--r--. 1 root root 96K Oct 21 18:04 10.143.3.2.pcap\n",
      "Node3\n",
      "total 104K\n",
      "-rw-r--r--. 1 root root 97K Oct 21 18:03 10.136.5.2.pcap\n"
     ]
    }
   ],
   "source": [
    "owl_output_dir = '/home/rocky/owl-output'\n",
    "\n",
    "for node in nodes:\n",
    "    print(node.get_name())\n",
    "    node.execute(f\"ls -lh {owl_output_dir}\")"
   ]
  },
  {
   "cell_type": "markdown",
   "id": "a8f0a3ab-c3b4-4c10-9af8-49be70cc45fd",
   "metadata": {},
   "source": [
    "## Download the pcap files for analysis"
   ]
  },
  {
   "cell_type": "code",
   "execution_count": 15,
   "id": "b2bce891-5450-4664-ab04-ac276fa5e026",
   "metadata": {},
   "outputs": [
    {
     "name": "stdout",
     "output_type": "stream",
     "text": [
      "Downloading pcap files from Node1\n",
      "10.129.129.2.pcap\n",
      "Downloaded /home/rocky/owl-output/10.129.129.2.pcap from Node1 to /home/fabric/work/my_notebooks/OWL_new/Node1/10.129.129.2.pcap\n",
      "Downloading pcap files from Node2\n",
      "10.143.3.2.pcap\n",
      "Downloaded /home/rocky/owl-output/10.143.3.2.pcap from Node2 to /home/fabric/work/my_notebooks/OWL_new/Node2/10.143.3.2.pcap\n",
      "Downloading pcap files from Node3\n",
      "10.136.5.2.pcap\n",
      "Downloaded /home/rocky/owl-output/10.136.5.2.pcap from Node3 to /home/fabric/work/my_notebooks/OWL_new/Node3/10.136.5.2.pcap\n"
     ]
    }
   ],
   "source": [
    "for node in nodes:\n",
    "    \n",
    "    print(f\"Downloading pcap files from {node.get_name()}\")\n",
    "    \n",
    "    local_output_dir = '/home/fabric/work/my_notebooks/OWL_new/'\n",
    "    owl.download_output(node, local_output_dir)"
   ]
  },
  {
   "cell_type": "code",
   "execution_count": null,
   "id": "105cb332-02ac-4132-9de5-43f76cb588ff",
   "metadata": {},
   "outputs": [],
   "source": []
  }
 ],
 "metadata": {
  "kernelspec": {
   "display_name": "Python 3 (ipykernel)",
   "language": "python",
   "name": "python3"
  },
  "language_info": {
   "codemirror_mode": {
    "name": "ipython",
    "version": 3
   },
   "file_extension": ".py",
   "mimetype": "text/x-python",
   "name": "python",
   "nbconvert_exporter": "python",
   "pygments_lexer": "ipython3",
   "version": "3.10.6"
  }
 },
 "nbformat": 4,
 "nbformat_minor": 5
}
