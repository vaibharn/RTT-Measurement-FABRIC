{
 "cells": [
  {
   "cell_type": "code",
   "execution_count": null,
   "id": "be8b9a80-c742-48e8-a11b-432837ab2f95",
   "metadata": {},
   "outputs": [],
   "source": [
    "import time\n",
    "from scapy.all import IP, ICMP, sr1\n",
    "import statistics\n",
    "\n",
    "def calculate_rtt(ip_address, count=4):\n",
    "    rtt_list = []\n",
    "\n",
    "    for _ in range(count):\n",
    "        start_time = time.time()\n",
    "        packet = IP(dst=ip_address) / ICMP()\n",
    "        \n",
    "        # Send the packet and receive a response\n",
    "        reply = sr1(packet, timeout=1, verbose=False)\n",
    "\n",
    "        if reply:\n",
    "            # Calculate round trip time in milliseconds\n",
    "            rtt = (time.time() - start_time) * 1000\n",
    "            rtt_list.append(rtt)\n",
    "        else:\n",
    "            # Set a large value for timeout or packet loss\n",
    "            rtt_list.append(float('inf'))\n",
    "\n",
    "    return rtt_list\n",
    "\n",
    "def main():\n",
    "    # Put IPs of Nodes in different sites you want to test\n",
    "    ip1 = '192.168.1.1'\n",
    "    ip2 = '8.8.8.8'\n",
    "    num_readings = 1000\n",
    "\n",
    "    all_rtt1 = []\n",
    "    all_rtt2 = []\n",
    "\n",
    "    for _ in range(num_readings):\n",
    "        rtt1 = calculate_rtt(ip1)\n",
    "        rtt2 = calculate_rtt(ip2)\n",
    "\n",
    "        all_rtt1.extend(rtt1)\n",
    "        all_rtt2.extend(rtt2)\n",
    "\n",
    "    median_rtt1 = statistics.median(all_rtt1)\n",
    "    median_rtt2 = statistics.median(all_rtt2)\n",
    "\n",
    "    print(f\"Median RTT from {ip1}: {median_rtt1} ms\")\n",
    "    print(f\"Median RTT from {ip2}: {median_rtt2} ms\")\n",
    "\n",
    "if __name__ == \"__main__\":\n",
    "    main()\n"
   ]
  }
 ],
 "metadata": {
  "kernelspec": {
   "display_name": "Python 3 (ipykernel)",
   "language": "python",
   "name": "python3"
  },
  "language_info": {
   "codemirror_mode": {
    "name": "ipython",
    "version": 3
   },
   "file_extension": ".py",
   "mimetype": "text/x-python",
   "name": "python",
   "nbconvert_exporter": "python",
   "pygments_lexer": "ipython3",
   "version": "3.10.6"
  }
 },
 "nbformat": 4,
 "nbformat_minor": 5
}
